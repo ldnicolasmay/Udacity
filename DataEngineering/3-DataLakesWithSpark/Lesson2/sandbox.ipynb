{
 "cells": [
  {
   "cell_type": "code",
   "execution_count": null,
   "metadata": {},
   "outputs": [],
   "source": [
    "# !export SPARK_HOME=\"$HOME/spark-2.4.5-bin-hadoop2.7\""
   ]
  },
  {
   "cell_type": "code",
   "execution_count": 1,
   "metadata": {},
   "outputs": [],
   "source": [
    "import pyspark\n",
    "from pyspark import SparkConf\n",
    "from pyspark.sql import SparkSession"
   ]
  },
  {
   "cell_type": "code",
   "execution_count": 2,
   "metadata": {},
   "outputs": [],
   "source": [
    "spark = SparkSession \\\n",
    "    .builder \\\n",
    "    .appName(\"Our first Spark SQL example\") \\\n",
    "    .getOrCreate()"
   ]
  },
  {
   "cell_type": "code",
   "execution_count": 3,
   "metadata": {},
   "outputs": [
    {
     "data": {
      "text/plain": [
       "[('spark.app.name', 'Our first Spark SQL example'),\n",
       " ('spark.app.id', 'local-1587818651426'),\n",
       " ('spark.rdd.compress', 'True'),\n",
       " ('spark.driver.host', '10.234.15.26'),\n",
       " ('spark.serializer.objectStreamReset', '100'),\n",
       " ('spark.master', 'local[*]'),\n",
       " ('spark.driver.port', '44037'),\n",
       " ('spark.executor.id', 'driver'),\n",
       " ('spark.submit.deployMode', 'client'),\n",
       " ('spark.ui.showConsoleProgress', 'true')]"
      ]
     },
     "execution_count": 3,
     "metadata": {},
     "output_type": "execute_result"
    }
   ],
   "source": [
    "spark.sparkContext.getConf().getAll()"
   ]
  },
  {
   "cell_type": "code",
   "execution_count": 4,
   "metadata": {},
   "outputs": [
    {
     "data": {
      "text/html": [
       "\n",
       "            <div>\n",
       "                <p><b>SparkSession - in-memory</b></p>\n",
       "                \n",
       "        <div>\n",
       "            <p><b>SparkContext</b></p>\n",
       "\n",
       "            <p><a href=\"http://10.234.15.26:4040\">Spark UI</a></p>\n",
       "\n",
       "            <dl>\n",
       "              <dt>Version</dt>\n",
       "                <dd><code>v2.4.5</code></dd>\n",
       "              <dt>Master</dt>\n",
       "                <dd><code>local[*]</code></dd>\n",
       "              <dt>AppName</dt>\n",
       "                <dd><code>Our first Spark SQL example</code></dd>\n",
       "            </dl>\n",
       "        </div>\n",
       "        \n",
       "            </div>\n",
       "        "
      ],
      "text/plain": [
       "<pyspark.sql.session.SparkSession at 0x7fe05c02c950>"
      ]
     },
     "execution_count": 4,
     "metadata": {},
     "output_type": "execute_result"
    }
   ],
   "source": [
    "spark"
   ]
  },
  {
   "cell_type": "code",
   "execution_count": 5,
   "metadata": {},
   "outputs": [],
   "source": [
    "path = \"data/sparkify_log_small.json\""
   ]
  },
  {
   "cell_type": "code",
   "execution_count": 6,
   "metadata": {},
   "outputs": [],
   "source": [
    "user_log = spark.read.json(path)"
   ]
  },
  {
   "cell_type": "code",
   "execution_count": 7,
   "metadata": {},
   "outputs": [
    {
     "name": "stdout",
     "output_type": "stream",
     "text": [
      "root\n",
      " |-- artist: string (nullable = true)\n",
      " |-- auth: string (nullable = true)\n",
      " |-- firstName: string (nullable = true)\n",
      " |-- gender: string (nullable = true)\n",
      " |-- itemInSession: long (nullable = true)\n",
      " |-- lastName: string (nullable = true)\n",
      " |-- length: double (nullable = true)\n",
      " |-- level: string (nullable = true)\n",
      " |-- location: string (nullable = true)\n",
      " |-- method: string (nullable = true)\n",
      " |-- page: string (nullable = true)\n",
      " |-- registration: long (nullable = true)\n",
      " |-- sessionId: long (nullable = true)\n",
      " |-- song: string (nullable = true)\n",
      " |-- status: long (nullable = true)\n",
      " |-- ts: long (nullable = true)\n",
      " |-- userAgent: string (nullable = true)\n",
      " |-- userId: string (nullable = true)\n",
      "\n"
     ]
    }
   ],
   "source": [
    "user_log.printSchema()"
   ]
  },
  {
   "cell_type": "code",
   "execution_count": 8,
   "metadata": {},
   "outputs": [
    {
     "data": {
      "text/plain": [
       "DataFrame[summary: string, artist: string, auth: string, firstName: string, gender: string, itemInSession: string, lastName: string, length: string, level: string, location: string, method: string, page: string, registration: string, sessionId: string, song: string, status: string, ts: string, userAgent: string, userId: string]"
      ]
     },
     "execution_count": 8,
     "metadata": {},
     "output_type": "execute_result"
    }
   ],
   "source": [
    "user_log.describe()"
   ]
  },
  {
   "cell_type": "code",
   "execution_count": 9,
   "metadata": {},
   "outputs": [
    {
     "name": "stdout",
     "output_type": "stream",
     "text": [
      "+-------+-----------------+----------+---------+------+------------------+--------+-----------------+-----+------------+------+-------+--------------------+------------------+--------+-----------------+-------------------+--------------------+------------------+\n",
      "|summary|           artist|      auth|firstName|gender|     itemInSession|lastName|           length|level|    location|method|   page|        registration|         sessionId|    song|           status|                 ts|           userAgent|            userId|\n",
      "+-------+-----------------+----------+---------+------+------------------+--------+-----------------+-----+------------+------+-------+--------------------+------------------+--------+-----------------+-------------------+--------------------+------------------+\n",
      "|  count|             8347|     10000|     9664|  9664|             10000|    9664|             8347|10000|        9664| 10000|  10000|                9664|             10000|    8347|            10000|              10000|                9664|             10000|\n",
      "|   mean|            461.0|      null|     null|  null|           19.6734|    null|249.6486587492506| null|        null|  null|   null|1.504695369588739...|         4436.7511|Infinity|         202.8984| 1.5137859954164E12|                null|1442.4413286423842|\n",
      "| stddev|            300.0|      null|     null|  null|25.382114916132608|    null|95.00437130781461| null|        null|  null|   null|  8.47314252131656E9|2043.1281541827561|     NaN|18.04179115450588|3.290828862357974E7|                null| 829.8909432082621|\n",
      "|    min|              !!!|     Guest|   Aakash|     F|                 0| Acevedo|          1.12281| free|Aberdeen, WA|   GET|  About|       1463503881284|                 9|      #1|              200|      1513720872284|\"Mozilla/5.0 (Mac...|                  |\n",
      "|    max|ÃÂlafur Arnalds|Logged Out|     Zoie|     M|               163|  Zuniga|        1806.8371| paid|    Yuma, AZ|   PUT|Upgrade|       1513760702284|              7144|wingless|              404|      1513848349284|Mozilla/5.0 (comp...|               999|\n",
      "+-------+-----------------+----------+---------+------+------------------+--------+-----------------+-----+------------+------+-------+--------------------+------------------+--------+-----------------+-------------------+--------------------+------------------+\n",
      "\n"
     ]
    }
   ],
   "source": [
    "user_log.describe().show()"
   ]
  },
  {
   "cell_type": "code",
   "execution_count": 10,
   "metadata": {},
   "outputs": [
    {
     "name": "stdout",
     "output_type": "stream",
     "text": [
      "+-------+-----------------+\n",
      "|summary|           length|\n",
      "+-------+-----------------+\n",
      "|  count|             8347|\n",
      "|   mean|249.6486587492506|\n",
      "| stddev|95.00437130781461|\n",
      "|    min|          1.12281|\n",
      "|    max|        1806.8371|\n",
      "+-------+-----------------+\n",
      "\n"
     ]
    }
   ],
   "source": [
    "user_log.describe(\"length\").show()"
   ]
  },
  {
   "cell_type": "code",
   "execution_count": 11,
   "metadata": {},
   "outputs": [
    {
     "name": "stdout",
     "output_type": "stream",
     "text": [
      "+-------------+---------+---------+------+-------------+--------+---------+-----+--------------------+------+--------+-------------+---------+--------------------+------+-------------+--------------------+------+\n",
      "|       artist|     auth|firstName|gender|itemInSession|lastName|   length|level|            location|method|    page| registration|sessionId|                song|status|           ts|           userAgent|userId|\n",
      "+-------------+---------+---------+------+-------------+--------+---------+-----+--------------------+------+--------+-------------+---------+--------------------+------+-------------+--------------------+------+\n",
      "|Showaddywaddy|Logged In|  Kenneth|     M|          112|Matthews|232.93342| paid|Charlotte-Concord...|   PUT|NextSong|1509380319284|     5132|Christmas Tears W...|   200|1513720872284|\"Mozilla/5.0 (Win...|  1046|\n",
      "+-------------+---------+---------+------+-------------+--------+---------+-----+--------------------+------+--------+-------------+---------+--------------------+------+-------------+--------------------+------+\n",
      "only showing top 1 row\n",
      "\n"
     ]
    }
   ],
   "source": [
    "user_log.show(n=1)"
   ]
  },
  {
   "cell_type": "code",
   "execution_count": 12,
   "metadata": {},
   "outputs": [
    {
     "data": {
      "text/plain": [
       "[Row(artist='Showaddywaddy', auth='Logged In', firstName='Kenneth', gender='M', itemInSession=112, lastName='Matthews', length=232.93342, level='paid', location='Charlotte-Concord-Gastonia, NC-SC', method='PUT', page='NextSong', registration=1509380319284, sessionId=5132, song='Christmas Tears Will Fall', status=200, ts=1513720872284, userAgent='\"Mozilla/5.0 (Windows NT 6.1) AppleWebKit/537.36 (KHTML, like Gecko) Chrome/36.0.1985.125 Safari/537.36\"', userId='1046'),\n",
       " Row(artist='Lily Allen', auth='Logged In', firstName='Elizabeth', gender='F', itemInSession=7, lastName='Chase', length=195.23873, level='free', location='Shreveport-Bossier City, LA', method='PUT', page='NextSong', registration=1512718541284, sessionId=5027, song='Cheryl Tweedy', status=200, ts=1513720878284, userAgent='\"Mozilla/5.0 (Windows NT 6.1) AppleWebKit/537.36 (KHTML, like Gecko) Chrome/36.0.1985.143 Safari/537.36\"', userId='1000'),\n",
       " Row(artist='Cobra Starship Featuring Leighton Meester', auth='Logged In', firstName='Vera', gender='F', itemInSession=6, lastName='Blackwell', length=196.20526, level='paid', location='Racine, WI', method='PUT', page='NextSong', registration=1499855749284, sessionId=5516, song='Good Girls Go Bad (Feat.Leighton Meester) (Album Version)', status=200, ts=1513720881284, userAgent='\"Mozilla/5.0 (Macintosh; Intel Mac OS X 10_9_4) AppleWebKit/537.78.2 (KHTML, like Gecko) Version/7.0.6 Safari/537.78.2\"', userId='2219'),\n",
       " Row(artist='Alex Smoke', auth='Logged In', firstName='Sophee', gender='F', itemInSession=8, lastName='Barker', length=405.99465, level='paid', location='San Luis Obispo-Paso Robles-Arroyo Grande, CA', method='PUT', page='NextSong', registration=1513009647284, sessionId=2372, song=\"Don't See The Point\", status=200, ts=1513720905284, userAgent='\"Mozilla/5.0 (Windows NT 6.1; WOW64) AppleWebKit/537.36 (KHTML, like Gecko) Chrome/36.0.1985.143 Safari/537.36\"', userId='2373'),\n",
       " Row(artist=None, auth='Logged In', firstName='Jordyn', gender='F', itemInSession=0, lastName='Jones', length=None, level='free', location='Syracuse, NY', method='GET', page='Home', registration=1513648531284, sessionId=1746, song=None, status=200, ts=1513720913284, userAgent='\"Mozilla/5.0 (Macintosh; Intel Mac OS X 10_9_4) AppleWebKit/537.36 (KHTML, like Gecko) Chrome/37.0.2062.94 Safari/537.36\"', userId='1747')]"
      ]
     },
     "execution_count": 12,
     "metadata": {},
     "output_type": "execute_result"
    }
   ],
   "source": [
    "user_log.take(5)"
   ]
  },
  {
   "cell_type": "code",
   "execution_count": 13,
   "metadata": {},
   "outputs": [
    {
     "data": {
      "text/plain": [
       "Row(artist='Showaddywaddy', auth='Logged In', firstName='Kenneth', gender='M', itemInSession=112, lastName='Matthews', length=232.93342, level='paid', location='Charlotte-Concord-Gastonia, NC-SC', method='PUT', page='NextSong', registration=1509380319284, sessionId=5132, song='Christmas Tears Will Fall', status=200, ts=1513720872284, userAgent='\"Mozilla/5.0 (Windows NT 6.1) AppleWebKit/537.36 (KHTML, like Gecko) Chrome/36.0.1985.125 Safari/537.36\"', userId='1046')"
      ]
     },
     "execution_count": 13,
     "metadata": {},
     "output_type": "execute_result"
    }
   ],
   "source": [
    "user_log.first()"
   ]
  },
  {
   "cell_type": "code",
   "execution_count": 14,
   "metadata": {},
   "outputs": [
    {
     "name": "stdout",
     "output_type": "stream",
     "text": [
      "+--------------------+\n",
      "|              artist|\n",
      "+--------------------+\n",
      "|       Showaddywaddy|\n",
      "|          Lily Allen|\n",
      "|Cobra Starship Fe...|\n",
      "|          Alex Smoke|\n",
      "|                null|\n",
      "|                null|\n",
      "|              Redman|\n",
      "|     Ulrich Schnauss|\n",
      "|                null|\n",
      "|                null|\n",
      "|               Jay-Z|\n",
      "|         Evanescence|\n",
      "|     Scissor Sisters|\n",
      "|        3 Doors Down|\n",
      "|       George Younce|\n",
      "|              Aly-Us|\n",
      "|                null|\n",
      "|            BjÃÂ¶rk|\n",
      "|      David Bromberg|\n",
      "|          Nickelback|\n",
      "+--------------------+\n",
      "only showing top 20 rows\n",
      "\n"
     ]
    }
   ],
   "source": [
    "user_log.select(\"artist\").show()"
   ]
  },
  {
   "cell_type": "code",
   "execution_count": 15,
   "metadata": {},
   "outputs": [
    {
     "name": "stdout",
     "output_type": "stream",
     "text": [
      "+--------------------+---------+\n",
      "|              artist|     auth|\n",
      "+--------------------+---------+\n",
      "|       Showaddywaddy|Logged In|\n",
      "|          Lily Allen|Logged In|\n",
      "|Cobra Starship Fe...|Logged In|\n",
      "|          Alex Smoke|Logged In|\n",
      "|                null|Logged In|\n",
      "|                null|Logged In|\n",
      "|              Redman|Logged In|\n",
      "|     Ulrich Schnauss|Logged In|\n",
      "|                null|Logged In|\n",
      "|                null|Logged In|\n",
      "|               Jay-Z|Logged In|\n",
      "|         Evanescence|Logged In|\n",
      "|     Scissor Sisters|Logged In|\n",
      "|        3 Doors Down|Logged In|\n",
      "|       George Younce|Logged In|\n",
      "|              Aly-Us|Logged In|\n",
      "|                null|Logged In|\n",
      "|            BjÃÂ¶rk|Logged In|\n",
      "|      David Bromberg|Logged In|\n",
      "|          Nickelback|Logged In|\n",
      "+--------------------+---------+\n",
      "only showing top 20 rows\n",
      "\n"
     ]
    }
   ],
   "source": [
    "user_log.select(user_log[\"artist\"], user_log[\"auth\"]).show()"
   ]
  },
  {
   "cell_type": "code",
   "execution_count": 16,
   "metadata": {},
   "outputs": [
    {
     "data": {
      "text/plain": [
       "10000"
      ]
     },
     "execution_count": 16,
     "metadata": {},
     "output_type": "execute_result"
    }
   ],
   "source": [
    "user_log.count()"
   ]
  },
  {
   "cell_type": "code",
   "execution_count": 17,
   "metadata": {},
   "outputs": [
    {
     "data": {
      "text/plain": [
       "9"
      ]
     },
     "execution_count": 17,
     "metadata": {},
     "output_type": "execute_result"
    }
   ],
   "source": [
    "user_log.filter(user_log[\"length\"] > 1000).count()"
   ]
  },
  {
   "cell_type": "code",
   "execution_count": 18,
   "metadata": {},
   "outputs": [],
   "source": [
    "out_path = \"data/sparkify_log_small_csv\""
   ]
  },
  {
   "cell_type": "code",
   "execution_count": 19,
   "metadata": {},
   "outputs": [],
   "source": [
    "# # already exists\n",
    "# user_log.write.save(out_path, format = \"csv\", header = True)"
   ]
  },
  {
   "cell_type": "code",
   "execution_count": 20,
   "metadata": {},
   "outputs": [],
   "source": [
    "user_log_2 = spark.read.csv(out_path, header = True)"
   ]
  },
  {
   "cell_type": "code",
   "execution_count": 21,
   "metadata": {},
   "outputs": [
    {
     "data": {
      "text/plain": [
       "10000"
      ]
     },
     "execution_count": 21,
     "metadata": {},
     "output_type": "execute_result"
    }
   ],
   "source": [
    "user_log_2.count()"
   ]
  },
  {
   "cell_type": "code",
   "execution_count": 22,
   "metadata": {},
   "outputs": [
    {
     "name": "stdout",
     "output_type": "stream",
     "text": [
      "root\n",
      " |-- artist: string (nullable = true)\n",
      " |-- auth: string (nullable = true)\n",
      " |-- firstName: string (nullable = true)\n",
      " |-- gender: string (nullable = true)\n",
      " |-- itemInSession: string (nullable = true)\n",
      " |-- lastName: string (nullable = true)\n",
      " |-- length: string (nullable = true)\n",
      " |-- level: string (nullable = true)\n",
      " |-- location: string (nullable = true)\n",
      " |-- method: string (nullable = true)\n",
      " |-- page: string (nullable = true)\n",
      " |-- registration: string (nullable = true)\n",
      " |-- sessionId: string (nullable = true)\n",
      " |-- song: string (nullable = true)\n",
      " |-- status: string (nullable = true)\n",
      " |-- ts: string (nullable = true)\n",
      " |-- userAgent: string (nullable = true)\n",
      " |-- userId: string (nullable = true)\n",
      "\n"
     ]
    }
   ],
   "source": [
    "user_log_2.printSchema()"
   ]
  },
  {
   "cell_type": "code",
   "execution_count": 23,
   "metadata": {},
   "outputs": [],
   "source": [
    "from pyspark.sql.functions import udf\n",
    "from pyspark.sql.functions import desc\n",
    "from pyspark.sql.functions import asc\n",
    "from pyspark.sql.functions import sum as Fsum\n",
    "from pyspark.sql.types import StringType\n",
    "from pyspark.sql.types import IntegerType\n",
    "\n",
    "import datetime\n",
    "\n",
    "import numpy as np\n",
    "import pandas as pd\n",
    "%matplotlib inline\n",
    "import matplotlib.pyplot as plt"
   ]
  },
  {
   "cell_type": "code",
   "execution_count": 24,
   "metadata": {},
   "outputs": [
    {
     "data": {
      "text/plain": [
       "[Row(artist='Showaddywaddy', auth='Logged In', firstName='Kenneth', gender='M', itemInSession=112, lastName='Matthews', length=232.93342, level='paid', location='Charlotte-Concord-Gastonia, NC-SC', method='PUT', page='NextSong', registration=1509380319284, sessionId=5132, song='Christmas Tears Will Fall', status=200, ts=1513720872284, userAgent='\"Mozilla/5.0 (Windows NT 6.1) AppleWebKit/537.36 (KHTML, like Gecko) Chrome/36.0.1985.125 Safari/537.36\"', userId='1046'),\n",
       " Row(artist='Lily Allen', auth='Logged In', firstName='Elizabeth', gender='F', itemInSession=7, lastName='Chase', length=195.23873, level='free', location='Shreveport-Bossier City, LA', method='PUT', page='NextSong', registration=1512718541284, sessionId=5027, song='Cheryl Tweedy', status=200, ts=1513720878284, userAgent='\"Mozilla/5.0 (Windows NT 6.1) AppleWebKit/537.36 (KHTML, like Gecko) Chrome/36.0.1985.143 Safari/537.36\"', userId='1000'),\n",
       " Row(artist='Cobra Starship Featuring Leighton Meester', auth='Logged In', firstName='Vera', gender='F', itemInSession=6, lastName='Blackwell', length=196.20526, level='paid', location='Racine, WI', method='PUT', page='NextSong', registration=1499855749284, sessionId=5516, song='Good Girls Go Bad (Feat.Leighton Meester) (Album Version)', status=200, ts=1513720881284, userAgent='\"Mozilla/5.0 (Macintosh; Intel Mac OS X 10_9_4) AppleWebKit/537.78.2 (KHTML, like Gecko) Version/7.0.6 Safari/537.78.2\"', userId='2219'),\n",
       " Row(artist='Alex Smoke', auth='Logged In', firstName='Sophee', gender='F', itemInSession=8, lastName='Barker', length=405.99465, level='paid', location='San Luis Obispo-Paso Robles-Arroyo Grande, CA', method='PUT', page='NextSong', registration=1513009647284, sessionId=2372, song=\"Don't See The Point\", status=200, ts=1513720905284, userAgent='\"Mozilla/5.0 (Windows NT 6.1; WOW64) AppleWebKit/537.36 (KHTML, like Gecko) Chrome/36.0.1985.143 Safari/537.36\"', userId='2373'),\n",
       " Row(artist=None, auth='Logged In', firstName='Jordyn', gender='F', itemInSession=0, lastName='Jones', length=None, level='free', location='Syracuse, NY', method='GET', page='Home', registration=1513648531284, sessionId=1746, song=None, status=200, ts=1513720913284, userAgent='\"Mozilla/5.0 (Macintosh; Intel Mac OS X 10_9_4) AppleWebKit/537.36 (KHTML, like Gecko) Chrome/37.0.2062.94 Safari/537.36\"', userId='1747')]"
      ]
     },
     "execution_count": 24,
     "metadata": {},
     "output_type": "execute_result"
    }
   ],
   "source": [
    "user_log.take(5)"
   ]
  },
  {
   "cell_type": "code",
   "execution_count": 25,
   "metadata": {},
   "outputs": [
    {
     "name": "stdout",
     "output_type": "stream",
     "text": [
      "root\n",
      " |-- artist: string (nullable = true)\n",
      " |-- auth: string (nullable = true)\n",
      " |-- firstName: string (nullable = true)\n",
      " |-- gender: string (nullable = true)\n",
      " |-- itemInSession: long (nullable = true)\n",
      " |-- lastName: string (nullable = true)\n",
      " |-- length: double (nullable = true)\n",
      " |-- level: string (nullable = true)\n",
      " |-- location: string (nullable = true)\n",
      " |-- method: string (nullable = true)\n",
      " |-- page: string (nullable = true)\n",
      " |-- registration: long (nullable = true)\n",
      " |-- sessionId: long (nullable = true)\n",
      " |-- song: string (nullable = true)\n",
      " |-- status: long (nullable = true)\n",
      " |-- ts: long (nullable = true)\n",
      " |-- userAgent: string (nullable = true)\n",
      " |-- userId: string (nullable = true)\n",
      "\n"
     ]
    }
   ],
   "source": [
    "user_log.printSchema()"
   ]
  },
  {
   "cell_type": "code",
   "execution_count": 26,
   "metadata": {},
   "outputs": [
    {
     "name": "stdout",
     "output_type": "stream",
     "text": [
      "+-------+-----------------+----------+---------+------+------------------+--------+-----------------+-----+------------+------+-------+--------------------+------------------+--------+-----------------+-------------------+--------------------+------------------+\n",
      "|summary|           artist|      auth|firstName|gender|     itemInSession|lastName|           length|level|    location|method|   page|        registration|         sessionId|    song|           status|                 ts|           userAgent|            userId|\n",
      "+-------+-----------------+----------+---------+------+------------------+--------+-----------------+-----+------------+------+-------+--------------------+------------------+--------+-----------------+-------------------+--------------------+------------------+\n",
      "|  count|             8347|     10000|     9664|  9664|             10000|    9664|             8347|10000|        9664| 10000|  10000|                9664|             10000|    8347|            10000|              10000|                9664|             10000|\n",
      "|   mean|            461.0|      null|     null|  null|           19.6734|    null|249.6486587492506| null|        null|  null|   null|1.504695369588739...|         4436.7511|Infinity|         202.8984| 1.5137859954164E12|                null|1442.4413286423842|\n",
      "| stddev|            300.0|      null|     null|  null|25.382114916132608|    null|95.00437130781461| null|        null|  null|   null|  8.47314252131656E9|2043.1281541827561|     NaN|18.04179115450588|3.290828862357974E7|                null| 829.8909432082621|\n",
      "|    min|              !!!|     Guest|   Aakash|     F|                 0| Acevedo|          1.12281| free|Aberdeen, WA|   GET|  About|       1463503881284|                 9|      #1|              200|      1513720872284|\"Mozilla/5.0 (Mac...|                  |\n",
      "|    max|ÃÂlafur Arnalds|Logged Out|     Zoie|     M|               163|  Zuniga|        1806.8371| paid|    Yuma, AZ|   PUT|Upgrade|       1513760702284|              7144|wingless|              404|      1513848349284|Mozilla/5.0 (comp...|               999|\n",
      "+-------+-----------------+----------+---------+------+------------------+--------+-----------------+-----+------------+------+-------+--------------------+------------------+--------+-----------------+-------------------+--------------------+------------------+\n",
      "\n"
     ]
    }
   ],
   "source": [
    "user_log.describe().show()"
   ]
  },
  {
   "cell_type": "code",
   "execution_count": 27,
   "metadata": {},
   "outputs": [
    {
     "name": "stdout",
     "output_type": "stream",
     "text": [
      "+-------+-----------------+\n",
      "|summary|           artist|\n",
      "+-------+-----------------+\n",
      "|  count|             8347|\n",
      "|   mean|            461.0|\n",
      "| stddev|            300.0|\n",
      "|    min|              !!!|\n",
      "|    max|ÃÂlafur Arnalds|\n",
      "+-------+-----------------+\n",
      "\n"
     ]
    }
   ],
   "source": [
    "user_log.describe(\"artist\").show()"
   ]
  },
  {
   "cell_type": "code",
   "execution_count": 28,
   "metadata": {},
   "outputs": [
    {
     "name": "stdout",
     "output_type": "stream",
     "text": [
      "+-------+-----------------+\n",
      "|summary|           length|\n",
      "+-------+-----------------+\n",
      "|  count|             8347|\n",
      "|   mean|249.6486587492506|\n",
      "| stddev|95.00437130781461|\n",
      "|    min|          1.12281|\n",
      "|    max|        1806.8371|\n",
      "+-------+-----------------+\n",
      "\n"
     ]
    }
   ],
   "source": [
    "user_log.describe(\"length\").show()"
   ]
  },
  {
   "cell_type": "code",
   "execution_count": 29,
   "metadata": {},
   "outputs": [
    {
     "data": {
      "text/plain": [
       "1653"
      ]
     },
     "execution_count": 29,
     "metadata": {},
     "output_type": "execute_result"
    }
   ],
   "source": [
    "user_log.filter(\"length is null\").count()"
   ]
  },
  {
   "cell_type": "code",
   "execution_count": 30,
   "metadata": {},
   "outputs": [
    {
     "name": "stdout",
     "output_type": "stream",
     "text": [
      "+-------+-----------------+\n",
      "|summary|           length|\n",
      "+-------+-----------------+\n",
      "|  count|             8347|\n",
      "|   mean|249.6486587492506|\n",
      "| stddev|95.00437130781461|\n",
      "|    min|          1.12281|\n",
      "|    max|        1806.8371|\n",
      "+-------+-----------------+\n",
      "\n"
     ]
    }
   ],
   "source": [
    "user_log.filter(\"length is not null\").describe(\"length\").show()"
   ]
  },
  {
   "cell_type": "code",
   "execution_count": 31,
   "metadata": {},
   "outputs": [
    {
     "name": "stdout",
     "output_type": "stream",
     "text": [
      "+-------+------+----------+---------+------+------------------+--------+------+-----+----------------+------+-------+--------------------+------------------+----+------------------+--------------------+--------------------+------------------+\n",
      "|summary|artist|      auth|firstName|gender|     itemInSession|lastName|length|level|        location|method|   page|        registration|         sessionId|song|            status|                  ts|           userAgent|            userId|\n",
      "+-------+------+----------+---------+------+------------------+--------+------+-----+----------------+------+-------+--------------------+------------------+----+------------------+--------------------+--------------------+------------------+\n",
      "|  count|     0|      1653|     1317|  1317|              1653|    1317|     0| 1653|            1317|  1653|   1653|                1317|              1653|   0|              1653|                1653|                1317|              1653|\n",
      "|   mean|  null|      null|     null|  null| 9.033877797943134|    null|  null| null|            null|  null|   null|1.505042650032671...| 4409.867513611615|null|217.53418027828192|1.513785521390473...|                null|1523.5353075170842|\n",
      "| stddev|  null|      null|     null|  null|17.714853735872687|    null|  null| null|            null|  null|   null| 8.009345540605199E9|2022.6894623268684|null| 41.39321070833623|3.3158468204888426E7|                null| 842.7204849840213|\n",
      "|    min|  null|     Guest|   Aakash|     F|                 0| Acevedo|  null| free|    Aberdeen, WA|   GET|  About|       1467993386284|                10|null|               200|       1513720913284|\"Mozilla/5.0 (Mac...|                  |\n",
      "|    max|  null|Logged Out|     Zoie|     M|               145|  Zuniga|  null| paid|Worcester, MA-CT|   PUT|Upgrade|       1513760702284|              7144|null|               404|       1513848222284|Mozilla/5.0 (comp...|               999|\n",
      "+-------+------+----------+---------+------+------------------+--------+------+-----+----------------+------+-------+--------------------+------------------+----+------------------+--------------------+--------------------+------------------+\n",
      "\n"
     ]
    }
   ],
   "source": [
    "user_log.filter(\"length is null\").describe().show()"
   ]
  },
  {
   "cell_type": "code",
   "execution_count": 32,
   "metadata": {},
   "outputs": [
    {
     "data": {
      "text/plain": [
       "10000"
      ]
     },
     "execution_count": 32,
     "metadata": {},
     "output_type": "execute_result"
    }
   ],
   "source": [
    "user_log.count()"
   ]
  },
  {
   "cell_type": "code",
   "execution_count": 33,
   "metadata": {},
   "outputs": [
    {
     "name": "stdout",
     "output_type": "stream",
     "text": [
      "+----------------+\n",
      "|            page|\n",
      "+----------------+\n",
      "|           About|\n",
      "|       Downgrade|\n",
      "|           Error|\n",
      "|            Help|\n",
      "|            Home|\n",
      "|           Login|\n",
      "|          Logout|\n",
      "|        NextSong|\n",
      "|   Save Settings|\n",
      "|        Settings|\n",
      "|Submit Downgrade|\n",
      "|  Submit Upgrade|\n",
      "|         Upgrade|\n",
      "+----------------+\n",
      "\n"
     ]
    }
   ],
   "source": [
    "user_log.select(\"page\").dropDuplicates().sort(\"page\").show()"
   ]
  },
  {
   "cell_type": "code",
   "execution_count": 34,
   "metadata": {},
   "outputs": [
    {
     "name": "stdout",
     "output_type": "stream",
     "text": [
      "+------+---------+---------+------+-------------+--------+------+-----+--------------------+------+----------------+-------------+---------+----+------+-------------+--------------------+------+\n",
      "|artist|     auth|firstName|gender|itemInSession|lastName|length|level|            location|method|            page| registration|sessionId|song|status|           ts|           userAgent|userId|\n",
      "+------+---------+---------+------+-------------+--------+------+-----+--------------------+------+----------------+-------------+---------+----+------+-------------+--------------------+------+\n",
      "|  null|Logged In|    Kelly|     F|           24|  Newton|  null| paid|Houston-The Woodl...|   PUT|Submit Downgrade|1513283366284|     5931|null|   307|1513768454284|Mozilla/5.0 (Wind...|  1138|\n",
      "+------+---------+---------+------+-------------+--------+------+-----+--------------------+------+----------------+-------------+---------+----+------+-------------+--------------------+------+\n",
      "\n"
     ]
    }
   ],
   "source": [
    "user_log.filter(user_log[\"page\"] == \"Submit Downgrade\").show()"
   ]
  },
  {
   "cell_type": "code",
   "execution_count": 35,
   "metadata": {},
   "outputs": [
    {
     "data": {
      "text/plain": [
       "[Row(userId='1046', firstname='Kenneth', page='NextSong', song='Christmas Tears Will Fall'),\n",
       " Row(userId='1046', firstname='Kenneth', page='NextSong', song='Be Wary Of A Woman'),\n",
       " Row(userId='1046', firstname='Kenneth', page='NextSong', song='Public Enemy No.1'),\n",
       " Row(userId='1046', firstname='Kenneth', page='NextSong', song='Reign Of The Tyrants'),\n",
       " Row(userId='1046', firstname='Kenneth', page='NextSong', song='Father And Son'),\n",
       " Row(userId='1046', firstname='Kenneth', page='NextSong', song='No. 5'),\n",
       " Row(userId='1046', firstname='Kenneth', page='NextSong', song='Seventeen'),\n",
       " Row(userId='1046', firstname='Kenneth', page='Home', song=None),\n",
       " Row(userId='1046', firstname='Kenneth', page='NextSong', song='War on war'),\n",
       " Row(userId='1046', firstname='Kenneth', page='NextSong', song='Killermont Street'),\n",
       " Row(userId='1046', firstname='Kenneth', page='NextSong', song='Black & Blue'),\n",
       " Row(userId='1046', firstname='Kenneth', page='Logout', song=None),\n",
       " Row(userId='1046', firstname='Kenneth', page='Home', song=None),\n",
       " Row(userId='1046', firstname='Kenneth', page='NextSong', song='Heads Will Roll'),\n",
       " Row(userId='1046', firstname='Kenneth', page='NextSong', song='Bleed It Out [Live At Milton Keynes]'),\n",
       " Row(userId='1046', firstname='Kenneth', page='NextSong', song='Clocks'),\n",
       " Row(userId='1046', firstname='Kenneth', page='NextSong', song='Love Rain'),\n",
       " Row(userId='1046', firstname='Kenneth', page='NextSong', song=\"Ry Ry's Song (Album Version)\"),\n",
       " Row(userId='1046', firstname='Kenneth', page='NextSong', song='The Invisible Man'),\n",
       " Row(userId='1046', firstname='Kenneth', page='NextSong', song='Catch You Baby (Steve Pitron & Max Sanna Radio Edit)'),\n",
       " Row(userId='1046', firstname='Kenneth', page='NextSong', song='Ask The Mountains'),\n",
       " Row(userId='1046', firstname='Kenneth', page='NextSong', song='Given Up (Album Version)'),\n",
       " Row(userId='1046', firstname='Kenneth', page='NextSong', song='El Cuatrero'),\n",
       " Row(userId='1046', firstname='Kenneth', page='NextSong', song='Hero/Heroine'),\n",
       " Row(userId='1046', firstname='Kenneth', page='NextSong', song='Spring'),\n",
       " Row(userId='1046', firstname='Kenneth', page='NextSong', song='Rising Moon'),\n",
       " Row(userId='1046', firstname='Kenneth', page='NextSong', song='Tough Little Boys'),\n",
       " Row(userId='1046', firstname='Kenneth', page='NextSong', song=\"Qu'Est-Ce Que T'Es Belle\"),\n",
       " Row(userId='1046', firstname='Kenneth', page='NextSong', song='Secrets'),\n",
       " Row(userId='1046', firstname='Kenneth', page='NextSong', song='Under The Gun')]"
      ]
     },
     "execution_count": 35,
     "metadata": {},
     "output_type": "execute_result"
    }
   ],
   "source": [
    "user_log.select([\"userId\", \"firstname\", \"page\", \"song\"]).where(user_log.userId == \"1046\").collect()"
   ]
  },
  {
   "cell_type": "code",
   "execution_count": 36,
   "metadata": {},
   "outputs": [
    {
     "name": "stdout",
     "output_type": "stream",
     "text": [
      "+------+---------+--------+--------------------+-------------+\n",
      "|userId|firstname|    page|                song|           ts|\n",
      "+------+---------+--------+--------------------+-------------+\n",
      "|  1046|  Kenneth|NextSong|Christmas Tears W...|1513720872284|\n",
      "|  1046|  Kenneth|NextSong|  Be Wary Of A Woman|1513721104284|\n",
      "|  1046|  Kenneth|NextSong|   Public Enemy No.1|1513721310284|\n",
      "|  1046|  Kenneth|NextSong|Reign Of The Tyrants|1513721591284|\n",
      "|  1046|  Kenneth|NextSong|      Father And Son|1513721808284|\n",
      "|  1046|  Kenneth|NextSong|               No. 5|1513721976284|\n",
      "|  1046|  Kenneth|NextSong|           Seventeen|1513722161284|\n",
      "|  1046|  Kenneth|    Home|                null|1513837636284|\n",
      "|  1046|  Kenneth|NextSong|          War on war|1513837660284|\n",
      "|  1046|  Kenneth|NextSong|   Killermont Street|1513837887284|\n",
      "|  1046|  Kenneth|NextSong|        Black & Blue|1513838080284|\n",
      "|  1046|  Kenneth|  Logout|                null|1513838081284|\n",
      "|  1046|  Kenneth|    Home|                null|1513838155284|\n",
      "|  1046|  Kenneth|NextSong|     Heads Will Roll|1513838300284|\n",
      "|  1046|  Kenneth|NextSong|Bleed It Out [Liv...|1513838520284|\n",
      "|  1046|  Kenneth|NextSong|              Clocks|1513839014284|\n",
      "|  1046|  Kenneth|NextSong|           Love Rain|1513839321284|\n",
      "|  1046|  Kenneth|NextSong|Ry Ry's Song (Alb...|1513839573284|\n",
      "|  1046|  Kenneth|NextSong|   The Invisible Man|1513839785284|\n",
      "|  1046|  Kenneth|NextSong|Catch You Baby (S...|1513840086284|\n",
      "|  1046|  Kenneth|NextSong|   Ask The Mountains|1513840267284|\n",
      "|  1046|  Kenneth|NextSong|Given Up (Album V...|1513840740284|\n",
      "|  1046|  Kenneth|NextSong|         El Cuatrero|1513840929284|\n",
      "|  1046|  Kenneth|NextSong|        Hero/Heroine|1513841100284|\n",
      "|  1046|  Kenneth|NextSong|              Spring|1513841332284|\n",
      "|  1046|  Kenneth|NextSong|         Rising Moon|1513841519284|\n",
      "|  1046|  Kenneth|NextSong|   Tough Little Boys|1513841710284|\n",
      "|  1046|  Kenneth|NextSong|Qu'Est-Ce Que T'E...|1513841947284|\n",
      "|  1046|  Kenneth|NextSong|             Secrets|1513842186284|\n",
      "|  1046|  Kenneth|NextSong|       Under The Gun|1513842410284|\n",
      "+------+---------+--------+--------------------+-------------+\n",
      "\n"
     ]
    }
   ],
   "source": [
    "user_log.select([\"userId\", \"firstname\", \"page\", \"song\", \"ts\"]).where(user_log.userId == \"1046\").show(n = 30)"
   ]
  },
  {
   "cell_type": "code",
   "execution_count": 90,
   "metadata": {},
   "outputs": [],
   "source": [
    "get_hour = udf(lambda x: datetime.datetime.fromtimestamp(x / 1000.0).hour, IntegerType())  # udf = user-defined function"
   ]
  },
  {
   "cell_type": "code",
   "execution_count": 91,
   "metadata": {},
   "outputs": [],
   "source": [
    "user_log_mut = user_log.withColumn('hour', get_hour(user_log.ts))"
   ]
  },
  {
   "cell_type": "code",
   "execution_count": 92,
   "metadata": {},
   "outputs": [
    {
     "name": "stdout",
     "output_type": "stream",
     "text": [
      "+------+---------+--------+--------------------+----+\n",
      "|userId|firstname|    page|                song|hour|\n",
      "+------+---------+--------+--------------------+----+\n",
      "|  1046|  Kenneth|NextSong|Christmas Tears W...|  17|\n",
      "|  1046|  Kenneth|NextSong|  Be Wary Of A Woman|  17|\n",
      "|  1046|  Kenneth|NextSong|   Public Enemy No.1|  17|\n",
      "|  1046|  Kenneth|NextSong|Reign Of The Tyrants|  17|\n",
      "|  1046|  Kenneth|NextSong|      Father And Son|  17|\n",
      "|  1046|  Kenneth|NextSong|               No. 5|  17|\n",
      "|  1046|  Kenneth|NextSong|           Seventeen|  17|\n",
      "|  1046|  Kenneth|    Home|                null|   1|\n",
      "|  1046|  Kenneth|NextSong|          War on war|   1|\n",
      "|  1046|  Kenneth|NextSong|   Killermont Street|   1|\n",
      "|  1046|  Kenneth|NextSong|        Black & Blue|   1|\n",
      "|  1046|  Kenneth|  Logout|                null|   1|\n",
      "|  1046|  Kenneth|    Home|                null|   1|\n",
      "|  1046|  Kenneth|NextSong|     Heads Will Roll|   1|\n",
      "|  1046|  Kenneth|NextSong|Bleed It Out [Liv...|   1|\n",
      "|  1046|  Kenneth|NextSong|              Clocks|   1|\n",
      "|  1046|  Kenneth|NextSong|           Love Rain|   1|\n",
      "|  1046|  Kenneth|NextSong|Ry Ry's Song (Alb...|   1|\n",
      "|  1046|  Kenneth|NextSong|   The Invisible Man|   2|\n",
      "|  1046|  Kenneth|NextSong|Catch You Baby (S...|   2|\n",
      "|  1046|  Kenneth|NextSong|   Ask The Mountains|   2|\n",
      "|  1046|  Kenneth|NextSong|Given Up (Album V...|   2|\n",
      "|  1046|  Kenneth|NextSong|         El Cuatrero|   2|\n",
      "|  1046|  Kenneth|NextSong|        Hero/Heroine|   2|\n",
      "|  1046|  Kenneth|NextSong|              Spring|   2|\n",
      "|  1046|  Kenneth|NextSong|         Rising Moon|   2|\n",
      "|  1046|  Kenneth|NextSong|   Tough Little Boys|   2|\n",
      "|  1046|  Kenneth|NextSong|Qu'Est-Ce Que T'E...|   2|\n",
      "|  1046|  Kenneth|NextSong|             Secrets|   2|\n",
      "|  1046|  Kenneth|NextSong|       Under The Gun|   2|\n",
      "+------+---------+--------+--------------------+----+\n",
      "\n"
     ]
    }
   ],
   "source": [
    "user_log_mut \\\n",
    "    .select([\"userId\", \"firstname\", \"page\", \"song\", \"hour\"]) \\\n",
    "    .where(user_log_mut.userId == \"1046\") \\\n",
    "    .show(n = 30)"
   ]
  },
  {
   "cell_type": "code",
   "execution_count": 95,
   "metadata": {},
   "outputs": [],
   "source": [
    "songs_in_hour = user_log_mut \\\n",
    "    .filter(user_log_mut.page == \"NextSong\") \\\n",
    "    .groupby(user_log_mut.hour) \\\n",
    "    .count() \\\n",
    "    .orderBy('hour')\n",
    "    # .sort('hour')\n",
    "    # .orderBy(user_log_mut.hour.cast(\"float\"))"
   ]
  },
  {
   "cell_type": "code",
   "execution_count": 96,
   "metadata": {},
   "outputs": [
    {
     "name": "stdout",
     "output_type": "stream",
     "text": [
      "+----+-----+\n",
      "|hour|count|\n",
      "+----+-----+\n",
      "|   0|  276|\n",
      "|   1|  348|\n",
      "|   2|  358|\n",
      "|   3|  375|\n",
      "|   4|  249|\n",
      "|   5|  216|\n",
      "|   6|  228|\n",
      "|   7|  251|\n",
      "|   8|  339|\n",
      "|   9|  462|\n",
      "|  10|  479|\n",
      "|  11|  484|\n",
      "|  12|  430|\n",
      "|  13|  362|\n",
      "|  14|  295|\n",
      "|  15|  257|\n",
      "|  16|  248|\n",
      "|  17|  369|\n",
      "|  18|  375|\n",
      "|  19|  456|\n",
      "|  20|  454|\n",
      "|  21|  382|\n",
      "|  22|  302|\n",
      "|  23|  352|\n",
      "+----+-----+\n",
      "\n"
     ]
    }
   ],
   "source": [
    "songs_in_hour.show(n = 24)"
   ]
  },
  {
   "cell_type": "code",
   "execution_count": 97,
   "metadata": {},
   "outputs": [],
   "source": [
    "songs_in_hour_pd = songs_in_hour.toPandas()"
   ]
  },
  {
   "cell_type": "code",
   "execution_count": 98,
   "metadata": {},
   "outputs": [
    {
     "data": {
      "text/html": [
       "<div>\n",
       "<style scoped>\n",
       "    .dataframe tbody tr th:only-of-type {\n",
       "        vertical-align: middle;\n",
       "    }\n",
       "\n",
       "    .dataframe tbody tr th {\n",
       "        vertical-align: top;\n",
       "    }\n",
       "\n",
       "    .dataframe thead th {\n",
       "        text-align: right;\n",
       "    }\n",
       "</style>\n",
       "<table border=\"1\" class=\"dataframe\">\n",
       "  <thead>\n",
       "    <tr style=\"text-align: right;\">\n",
       "      <th></th>\n",
       "      <th>hour</th>\n",
       "      <th>count</th>\n",
       "    </tr>\n",
       "  </thead>\n",
       "  <tbody>\n",
       "    <tr>\n",
       "      <th>0</th>\n",
       "      <td>0</td>\n",
       "      <td>276</td>\n",
       "    </tr>\n",
       "    <tr>\n",
       "      <th>1</th>\n",
       "      <td>1</td>\n",
       "      <td>348</td>\n",
       "    </tr>\n",
       "    <tr>\n",
       "      <th>2</th>\n",
       "      <td>2</td>\n",
       "      <td>358</td>\n",
       "    </tr>\n",
       "    <tr>\n",
       "      <th>3</th>\n",
       "      <td>3</td>\n",
       "      <td>375</td>\n",
       "    </tr>\n",
       "    <tr>\n",
       "      <th>4</th>\n",
       "      <td>4</td>\n",
       "      <td>249</td>\n",
       "    </tr>\n",
       "    <tr>\n",
       "      <th>5</th>\n",
       "      <td>5</td>\n",
       "      <td>216</td>\n",
       "    </tr>\n",
       "    <tr>\n",
       "      <th>6</th>\n",
       "      <td>6</td>\n",
       "      <td>228</td>\n",
       "    </tr>\n",
       "    <tr>\n",
       "      <th>7</th>\n",
       "      <td>7</td>\n",
       "      <td>251</td>\n",
       "    </tr>\n",
       "    <tr>\n",
       "      <th>8</th>\n",
       "      <td>8</td>\n",
       "      <td>339</td>\n",
       "    </tr>\n",
       "    <tr>\n",
       "      <th>9</th>\n",
       "      <td>9</td>\n",
       "      <td>462</td>\n",
       "    </tr>\n",
       "    <tr>\n",
       "      <th>10</th>\n",
       "      <td>10</td>\n",
       "      <td>479</td>\n",
       "    </tr>\n",
       "    <tr>\n",
       "      <th>11</th>\n",
       "      <td>11</td>\n",
       "      <td>484</td>\n",
       "    </tr>\n",
       "    <tr>\n",
       "      <th>12</th>\n",
       "      <td>12</td>\n",
       "      <td>430</td>\n",
       "    </tr>\n",
       "    <tr>\n",
       "      <th>13</th>\n",
       "      <td>13</td>\n",
       "      <td>362</td>\n",
       "    </tr>\n",
       "    <tr>\n",
       "      <th>14</th>\n",
       "      <td>14</td>\n",
       "      <td>295</td>\n",
       "    </tr>\n",
       "    <tr>\n",
       "      <th>15</th>\n",
       "      <td>15</td>\n",
       "      <td>257</td>\n",
       "    </tr>\n",
       "    <tr>\n",
       "      <th>16</th>\n",
       "      <td>16</td>\n",
       "      <td>248</td>\n",
       "    </tr>\n",
       "    <tr>\n",
       "      <th>17</th>\n",
       "      <td>17</td>\n",
       "      <td>369</td>\n",
       "    </tr>\n",
       "    <tr>\n",
       "      <th>18</th>\n",
       "      <td>18</td>\n",
       "      <td>375</td>\n",
       "    </tr>\n",
       "    <tr>\n",
       "      <th>19</th>\n",
       "      <td>19</td>\n",
       "      <td>456</td>\n",
       "    </tr>\n",
       "    <tr>\n",
       "      <th>20</th>\n",
       "      <td>20</td>\n",
       "      <td>454</td>\n",
       "    </tr>\n",
       "    <tr>\n",
       "      <th>21</th>\n",
       "      <td>21</td>\n",
       "      <td>382</td>\n",
       "    </tr>\n",
       "    <tr>\n",
       "      <th>22</th>\n",
       "      <td>22</td>\n",
       "      <td>302</td>\n",
       "    </tr>\n",
       "    <tr>\n",
       "      <th>23</th>\n",
       "      <td>23</td>\n",
       "      <td>352</td>\n",
       "    </tr>\n",
       "  </tbody>\n",
       "</table>\n",
       "</div>"
      ],
      "text/plain": [
       "    hour  count\n",
       "0      0    276\n",
       "1      1    348\n",
       "2      2    358\n",
       "3      3    375\n",
       "4      4    249\n",
       "5      5    216\n",
       "6      6    228\n",
       "7      7    251\n",
       "8      8    339\n",
       "9      9    462\n",
       "10    10    479\n",
       "11    11    484\n",
       "12    12    430\n",
       "13    13    362\n",
       "14    14    295\n",
       "15    15    257\n",
       "16    16    248\n",
       "17    17    369\n",
       "18    18    375\n",
       "19    19    456\n",
       "20    20    454\n",
       "21    21    382\n",
       "22    22    302\n",
       "23    23    352"
      ]
     },
     "execution_count": 98,
     "metadata": {},
     "output_type": "execute_result"
    }
   ],
   "source": [
    "songs_in_hour_pd"
   ]
  },
  {
   "cell_type": "code",
   "execution_count": 99,
   "metadata": {},
   "outputs": [
    {
     "data": {
      "image/png": "[encoded data removed]",
      "text/plain": [
       "<Figure size 432x288 with 1 Axes>"
      ]
     },
     "metadata": {
      "needs_background": "light"
     },
     "output_type": "display_data"
    }
   ],
   "source": [
    "plt.scatter(songs_in_hour_pd['hour'], songs_in_hour_pd['count'])\n",
    "# songs_in_hour_pd.plot(kind='line', x='hour', y='count')\n",
    "plt.xlim(-1, 25)\n",
    "plt.ylim(0, 1.2 * max(songs_in_hour_pd['count']))\n",
    "plt.xlabel(\"Hour\")\n",
    "plt.ylabel(\"Songs Played\")\n",
    "plt.show()"
   ]
  },
  {
   "cell_type": "code",
   "execution_count": 100,
   "metadata": {},
   "outputs": [],
   "source": [
    "user_log_valid = user_log_mut.dropna(how = \"any\", subset = [\"userId\", \"sessionId\"])"
   ]
  },
  {
   "cell_type": "code",
   "execution_count": 101,
   "metadata": {},
   "outputs": [
    {
     "data": {
      "text/plain": [
       "10000"
      ]
     },
     "execution_count": 101,
     "metadata": {},
     "output_type": "execute_result"
    }
   ],
   "source": [
    "user_log_valid.count()"
   ]
  },
  {
   "cell_type": "code",
   "execution_count": 102,
   "metadata": {},
   "outputs": [
    {
     "name": "stdout",
     "output_type": "stream",
     "text": [
      "+------+\n",
      "|userId|\n",
      "+------+\n",
      "|      |\n",
      "|    10|\n",
      "|   100|\n",
      "|  1000|\n",
      "|  1003|\n",
      "|  1005|\n",
      "|  1006|\n",
      "|  1017|\n",
      "|  1019|\n",
      "|  1020|\n",
      "|  1022|\n",
      "|  1025|\n",
      "|  1030|\n",
      "|  1035|\n",
      "|  1037|\n",
      "|   104|\n",
      "|  1040|\n",
      "|  1042|\n",
      "|  1043|\n",
      "|  1046|\n",
      "+------+\n",
      "only showing top 20 rows\n",
      "\n"
     ]
    }
   ],
   "source": [
    "user_log_mut.select(\"userId\").dropDuplicates().sort(\"userId\").show()"
   ]
  },
  {
   "cell_type": "code",
   "execution_count": 103,
   "metadata": {},
   "outputs": [],
   "source": [
    "user_log_valid_2 = user_log_mut.filter(user_log_valid[\"userId\"] != \"\")"
   ]
  },
  {
   "cell_type": "code",
   "execution_count": 104,
   "metadata": {},
   "outputs": [
    {
     "data": {
      "text/plain": [
       "9664"
      ]
     },
     "execution_count": 104,
     "metadata": {},
     "output_type": "execute_result"
    }
   ],
   "source": [
    "user_log_valid_2.count()"
   ]
  },
  {
   "cell_type": "code",
   "execution_count": 105,
   "metadata": {},
   "outputs": [
    {
     "name": "stdout",
     "output_type": "stream",
     "text": [
      "+------+---------+---------+------+-------------+--------+------+-----+--------------------+------+----------------+-------------+---------+----+------+-------------+--------------------+------+----+\n",
      "|artist|     auth|firstName|gender|itemInSession|lastName|length|level|            location|method|            page| registration|sessionId|song|status|           ts|           userAgent|userId|hour|\n",
      "+------+---------+---------+------+-------------+--------+------+-----+--------------------+------+----------------+-------------+---------+----+------+-------------+--------------------+------+----+\n",
      "|  null|Logged In|    Kelly|     F|           24|  Newton|  null| paid|Houston-The Woodl...|   PUT|Submit Downgrade|1513283366284|     5931|null|   307|1513768454284|Mozilla/5.0 (Wind...|  1138|   6|\n",
      "+------+---------+---------+------+-------------+--------+------+-----+--------------------+------+----------------+-------------+---------+----+------+-------------+--------------------+------+----+\n",
      "\n"
     ]
    }
   ],
   "source": [
    "user_log_valid_2.filter(\"page = 'Submit Downgrade'\").show()"
   ]
  },
  {
   "cell_type": "code",
   "execution_count": 106,
   "metadata": {},
   "outputs": [
    {
     "name": "stdout",
     "output_type": "stream",
     "text": [
      "+------+---------+----------------+-----+--------------------+\n",
      "|userId|firstname|            page|level|                song|\n",
      "+------+---------+----------------+-----+--------------------+\n",
      "|  1138|    Kelly|            Home| paid|                null|\n",
      "|  1138|    Kelly|        NextSong| paid| Everybody Everybody|\n",
      "|  1138|    Kelly|        NextSong| paid|               Gears|\n",
      "|  1138|    Kelly|        NextSong| paid|        Use Somebody|\n",
      "|  1138|    Kelly|        NextSong| paid|Love Of My Life (...|\n",
      "|  1138|    Kelly|        NextSong| paid|Down In The Valle...|\n",
      "|  1138|    Kelly|        NextSong| paid|Treat Her Like A ...|\n",
      "|  1138|    Kelly|        NextSong| paid|Everybody Thinks ...|\n",
      "|  1138|    Kelly|        NextSong| paid|      Fourteen Wives|\n",
      "|  1138|    Kelly|        NextSong| paid|   Love On The Rocks|\n",
      "|  1138|    Kelly|        NextSong| paid|           Breakeven|\n",
      "|  1138|    Kelly|        NextSong| paid|          Leaf House|\n",
      "|  1138|    Kelly|        NextSong| paid|       NAISEN KANSSA|\n",
      "|  1138|    Kelly|        NextSong| paid|  You're In My Heart|\n",
      "|  1138|    Kelly|        NextSong| paid|Roll On Down The ...|\n",
      "|  1138|    Kelly|        NextSong| paid|Plasticities (Remix)|\n",
      "|  1138|    Kelly|        NextSong| paid|             Secrets|\n",
      "|  1138|    Kelly|        NextSong| paid|               Hello|\n",
      "|  1138|    Kelly|        NextSong| paid|    I Never Told You|\n",
      "|  1138|    Kelly|        NextSong| paid|       Love Break Me|\n",
      "|  1138|    Kelly|        NextSong| paid|One Touch One Bounce|\n",
      "|  1138|    Kelly|        NextSong| paid|                Undo|\n",
      "|  1138|    Kelly|        NextSong| paid|Overdue (Blackbea...|\n",
      "|  1138|    Kelly|        NextSong| paid|Slave To Love (19...|\n",
      "|  1138|    Kelly|        NextSong| paid|            Stronger|\n",
      "|  1138|    Kelly|        NextSong| paid|All Of Us (Album ...|\n",
      "|  1138|    Kelly|        NextSong| paid|       Sehr kosmisch|\n",
      "|  1138|    Kelly|        NextSong| paid|  March Of The Celts|\n",
      "|  1138|    Kelly|        NextSong| paid|         Electricity|\n",
      "|  1138|    Kelly|        NextSong| paid|           Aces High|\n",
      "|  1138|    Kelly|        NextSong| paid|           Bananeira|\n",
      "|  1138|    Kelly|        NextSong| paid|         The General|\n",
      "|  1138|    Kelly|        NextSong| paid|HÃÂ©roe De Leyen...|\n",
      "|  1138|    Kelly|        NextSong| paid|Don't Stop The Music|\n",
      "|  1138|    Kelly|        NextSong| paid|      You're The One|\n",
      "|  1138|    Kelly|        NextSong| paid|Entering White Ce...|\n",
      "|  1138|    Kelly|        NextSong| paid|      Piccolo Cesare|\n",
      "|  1138|    Kelly|            Help| paid|                null|\n",
      "|  1138|    Kelly|        NextSong| paid|Last Christmas (A...|\n",
      "|  1138|    Kelly|        NextSong| paid|        You Shook Me|\n",
      "|  1138|    Kelly|        NextSong| paid|        Going Steady|\n",
      "|  1138|    Kelly|        NextSong| paid|          My Name Is|\n",
      "|  1138|    Kelly|        NextSong| paid|                Undo|\n",
      "|  1138|    Kelly|        NextSong| paid|             Secrets|\n",
      "|  1138|    Kelly|        NextSong| paid|Good Times Gone (...|\n",
      "|  1138|    Kelly|        NextSong| paid|            Angelito|\n",
      "|  1138|    Kelly|        NextSong| paid|Batdance ( LP Ver...|\n",
      "|  1138|    Kelly|            Home| paid|                null|\n",
      "|  1138|    Kelly|        NextSong| paid|          DiÃÂ¡kdal|\n",
      "|  1138|    Kelly|        NextSong| paid|            Whirring|\n",
      "|  1138|    Kelly|        NextSong| paid|Potholderz (feat....|\n",
      "|  1138|    Kelly|        NextSong| paid|             Seaside|\n",
      "|  1138|    Kelly|        NextSong| paid|  Louder Than A Bomb|\n",
      "|  1138|    Kelly|        NextSong| paid|       Just Like You|\n",
      "|  1138|    Kelly|        NextSong| paid|      You're The One|\n",
      "|  1138|    Kelly|        NextSong| paid|Turn It Again (Al...|\n",
      "|  1138|    Kelly|        NextSong| paid|     Everywhere I Go|\n",
      "|  1138|    Kelly|        NextSong| paid|       Easy Skankin'|\n",
      "|  1138|    Kelly|        NextSong| paid|               Roses|\n",
      "|  1138|    Kelly|        NextSong| paid|Killing Me Softly...|\n",
      "|  1138|    Kelly|        NextSong| paid|The Razor (Album ...|\n",
      "|  1138|    Kelly|        NextSong| paid|   Idols and Anchors|\n",
      "|  1138|    Kelly|       Downgrade| paid|                null|\n",
      "|  1138|    Kelly|Submit Downgrade| paid|                null|\n",
      "|  1138|    Kelly|            Home| free|                null|\n",
      "|  1138|    Kelly|        NextSong| free|               Bones|\n",
      "|  1138|    Kelly|            Home| free|                null|\n",
      "|  1138|    Kelly|        NextSong| free|Grenouilles Manti...|\n",
      "+------+---------+----------------+-----+--------------------+\n",
      "\n"
     ]
    }
   ],
   "source": [
    "user_log_mut \\\n",
    "    .select([\"userId\", \"firstname\", \"page\", \"level\", \"song\"]) \\\n",
    "    .where(user_log_mut.userId == \"1138\") \\\n",
    "    .show(n=100)  # .collect()"
   ]
  },
  {
   "cell_type": "code",
   "execution_count": 107,
   "metadata": {},
   "outputs": [],
   "source": [
    "flag_downgrade_event = udf(lambda x: 1 if x == 'Submit Downgrade' else 0, IntegerType())"
   ]
  },
  {
   "cell_type": "code",
   "execution_count": 108,
   "metadata": {},
   "outputs": [],
   "source": [
    "user_log_valid_2_mut = user_log_valid_2.withColumn('downgraded', flag_downgrade_event(\"page\"))"
   ]
  },
  {
   "cell_type": "code",
   "execution_count": 109,
   "metadata": {},
   "outputs": [
    {
     "data": {
      "text/plain": [
       "Row(artist='Showaddywaddy', auth='Logged In', firstName='Kenneth', gender='M', itemInSession=112, lastName='Matthews', length=232.93342, level='paid', location='Charlotte-Concord-Gastonia, NC-SC', method='PUT', page='NextSong', registration=1509380319284, sessionId=5132, song='Christmas Tears Will Fall', status=200, ts=1513720872284, userAgent='\"Mozilla/5.0 (Windows NT 6.1) AppleWebKit/537.36 (KHTML, like Gecko) Chrome/36.0.1985.125 Safari/537.36\"', userId='1046', hour=17, downgraded=0)"
      ]
     },
     "execution_count": 109,
     "metadata": {},
     "output_type": "execute_result"
    }
   ],
   "source": [
    "user_log_valid_2_mut.head()"
   ]
  },
  {
   "cell_type": "code",
   "execution_count": 110,
   "metadata": {},
   "outputs": [],
   "source": [
    "from pyspark.sql import Window"
   ]
  },
  {
   "cell_type": "code",
   "execution_count": 111,
   "metadata": {},
   "outputs": [],
   "source": [
    "windoweval = Window.partitionBy(\"userId\").orderBy(desc(\"ts\")).rangeBetween(Window.unboundedPreceding, 0)"
   ]
  },
  {
   "cell_type": "code",
   "execution_count": 112,
   "metadata": {},
   "outputs": [],
   "source": [
    "user_log_valid_2_mut_2 = user_log_valid_2_mut.withColumn(\"phase\", Fsum(\"downgraded\").over(windoweval))"
   ]
  },
  {
   "cell_type": "code",
   "execution_count": 113,
   "metadata": {},
   "outputs": [
    {
     "data": {
      "text/plain": [
       "[Row(userId='1138', firstname='Kelly', ts=1513729066284, page='Home', level='paid', phase=1),\n",
       " Row(userId='1138', firstname='Kelly', ts=1513729066284, page='NextSong', level='paid', phase=1),\n",
       " Row(userId='1138', firstname='Kelly', ts=1513729313284, page='NextSong', level='paid', phase=1),\n",
       " Row(userId='1138', firstname='Kelly', ts=1513729552284, page='NextSong', level='paid', phase=1),\n",
       " Row(userId='1138', firstname='Kelly', ts=1513729783284, page='NextSong', level='paid', phase=1),\n",
       " Row(userId='1138', firstname='Kelly', ts=1513730001284, page='NextSong', level='paid', phase=1),\n",
       " Row(userId='1138', firstname='Kelly', ts=1513730263284, page='NextSong', level='paid', phase=1),\n",
       " Row(userId='1138', firstname='Kelly', ts=1513730518284, page='NextSong', level='paid', phase=1),\n",
       " Row(userId='1138', firstname='Kelly', ts=1513730768284, page='NextSong', level='paid', phase=1),\n",
       " Row(userId='1138', firstname='Kelly', ts=1513731182284, page='NextSong', level='paid', phase=1),\n",
       " Row(userId='1138', firstname='Kelly', ts=1513731435284, page='NextSong', level='paid', phase=1),\n",
       " Row(userId='1138', firstname='Kelly', ts=1513731695284, page='NextSong', level='paid', phase=1),\n",
       " Row(userId='1138', firstname='Kelly', ts=1513731857284, page='NextSong', level='paid', phase=1),\n",
       " Row(userId='1138', firstname='Kelly', ts=1513732160284, page='NextSong', level='paid', phase=1),\n",
       " Row(userId='1138', firstname='Kelly', ts=1513732302284, page='NextSong', level='paid', phase=1),\n",
       " Row(userId='1138', firstname='Kelly', ts=1513732540284, page='NextSong', level='paid', phase=1),\n",
       " Row(userId='1138', firstname='Kelly', ts=1513732770284, page='NextSong', level='paid', phase=1),\n",
       " Row(userId='1138', firstname='Kelly', ts=1513732994284, page='NextSong', level='paid', phase=1),\n",
       " Row(userId='1138', firstname='Kelly', ts=1513733223284, page='NextSong', level='paid', phase=1),\n",
       " Row(userId='1138', firstname='Kelly', ts=1513733456284, page='NextSong', level='paid', phase=1),\n",
       " Row(userId='1138', firstname='Kelly', ts=1513733738284, page='NextSong', level='paid', phase=1),\n",
       " Row(userId='1138', firstname='Kelly', ts=1513733941284, page='NextSong', level='paid', phase=1),\n",
       " Row(userId='1138', firstname='Kelly', ts=1513734289284, page='NextSong', level='paid', phase=1),\n",
       " Row(userId='1138', firstname='Kelly', ts=1513734598284, page='NextSong', level='paid', phase=1),\n",
       " Row(userId='1138', firstname='Kelly', ts=1513734863284, page='NextSong', level='paid', phase=1),\n",
       " Row(userId='1138', firstname='Kelly', ts=1513735174284, page='NextSong', level='paid', phase=1),\n",
       " Row(userId='1138', firstname='Kelly', ts=1513735385284, page='NextSong', level='paid', phase=1),\n",
       " Row(userId='1138', firstname='Kelly', ts=1513736040284, page='NextSong', level='paid', phase=1),\n",
       " Row(userId='1138', firstname='Kelly', ts=1513736237284, page='NextSong', level='paid', phase=1),\n",
       " Row(userId='1138', firstname='Kelly', ts=1513736446284, page='NextSong', level='paid', phase=1),\n",
       " Row(userId='1138', firstname='Kelly', ts=1513736709284, page='NextSong', level='paid', phase=1),\n",
       " Row(userId='1138', firstname='Kelly', ts=1513736915284, page='NextSong', level='paid', phase=1),\n",
       " Row(userId='1138', firstname='Kelly', ts=1513737160284, page='NextSong', level='paid', phase=1),\n",
       " Row(userId='1138', firstname='Kelly', ts=1513737460284, page='NextSong', level='paid', phase=1),\n",
       " Row(userId='1138', firstname='Kelly', ts=1513737728284, page='NextSong', level='paid', phase=1),\n",
       " Row(userId='1138', firstname='Kelly', ts=1513737936284, page='NextSong', level='paid', phase=1),\n",
       " Row(userId='1138', firstname='Kelly', ts=1513738144284, page='NextSong', level='paid', phase=1),\n",
       " Row(userId='1138', firstname='Kelly', ts=1513738197284, page='Help', level='paid', phase=1),\n",
       " Row(userId='1138', firstname='Kelly', ts=1513738432284, page='NextSong', level='paid', phase=1),\n",
       " Row(userId='1138', firstname='Kelly', ts=1513763195284, page='NextSong', level='paid', phase=1),\n",
       " Row(userId='1138', firstname='Kelly', ts=1513763453284, page='NextSong', level='paid', phase=1),\n",
       " Row(userId='1138', firstname='Kelly', ts=1513763622284, page='NextSong', level='paid', phase=1),\n",
       " Row(userId='1138', firstname='Kelly', ts=1513763890284, page='NextSong', level='paid', phase=1),\n",
       " Row(userId='1138', firstname='Kelly', ts=1513764238284, page='NextSong', level='paid', phase=1),\n",
       " Row(userId='1138', firstname='Kelly', ts=1513764462284, page='NextSong', level='paid', phase=1),\n",
       " Row(userId='1138', firstname='Kelly', ts=1513764782284, page='NextSong', level='paid', phase=1),\n",
       " Row(userId='1138', firstname='Kelly', ts=1513765075284, page='NextSong', level='paid', phase=1),\n",
       " Row(userId='1138', firstname='Kelly', ts=1513765075284, page='Home', level='paid', phase=1),\n",
       " Row(userId='1138', firstname='Kelly', ts=1513765448284, page='NextSong', level='paid', phase=1),\n",
       " Row(userId='1138', firstname='Kelly', ts=1513765655284, page='NextSong', level='paid', phase=1),\n",
       " Row(userId='1138', firstname='Kelly', ts=1513765818284, page='NextSong', level='paid', phase=1),\n",
       " Row(userId='1138', firstname='Kelly', ts=1513766091284, page='NextSong', level='paid', phase=1),\n",
       " Row(userId='1138', firstname='Kelly', ts=1513766189284, page='NextSong', level='paid', phase=1),\n",
       " Row(userId='1138', firstname='Kelly', ts=1513766385284, page='NextSong', level='paid', phase=1),\n",
       " Row(userId='1138', firstname='Kelly', ts=1513766599284, page='NextSong', level='paid', phase=1),\n",
       " Row(userId='1138', firstname='Kelly', ts=1513766838284, page='NextSong', level='paid', phase=1),\n",
       " Row(userId='1138', firstname='Kelly', ts=1513767203284, page='NextSong', level='paid', phase=1),\n",
       " Row(userId='1138', firstname='Kelly', ts=1513767413284, page='NextSong', level='paid', phase=1),\n",
       " Row(userId='1138', firstname='Kelly', ts=1513767643284, page='NextSong', level='paid', phase=1),\n",
       " Row(userId='1138', firstname='Kelly', ts=1513768012284, page='NextSong', level='paid', phase=1),\n",
       " Row(userId='1138', firstname='Kelly', ts=1513768242284, page='NextSong', level='paid', phase=1),\n",
       " Row(userId='1138', firstname='Kelly', ts=1513768452284, page='NextSong', level='paid', phase=1),\n",
       " Row(userId='1138', firstname='Kelly', ts=1513768453284, page='Downgrade', level='paid', phase=1),\n",
       " Row(userId='1138', firstname='Kelly', ts=1513768454284, page='Submit Downgrade', level='paid', phase=1),\n",
       " Row(userId='1138', firstname='Kelly', ts=1513768456284, page='Home', level='free', phase=0),\n",
       " Row(userId='1138', firstname='Kelly', ts=1513814880284, page='NextSong', level='free', phase=0),\n",
       " Row(userId='1138', firstname='Kelly', ts=1513821430284, page='Home', level='free', phase=0),\n",
       " Row(userId='1138', firstname='Kelly', ts=1513833144284, page='NextSong', level='free', phase=0)]"
      ]
     },
     "execution_count": 113,
     "metadata": {},
     "output_type": "execute_result"
    }
   ],
   "source": [
    "user_log_valid_2_mut_2 \\\n",
    "    .select([\"userId\", \"firstname\", \"ts\", \"page\", \"level\", \"phase\"]) \\\n",
    "    .where(user_log_valid_2_mut_2.userId == \"1138\") \\\n",
    "    .sort(\"ts\") \\\n",
    "    .collect()"
   ]
  },
  {
   "cell_type": "code",
   "execution_count": 114,
   "metadata": {},
   "outputs": [
    {
     "name": "stdout",
     "output_type": "stream",
     "text": [
      "+----+------------------+\n",
      "|hour|       avg(length)|\n",
      "+----+------------------+\n",
      "|   0| 257.6102417028985|\n",
      "|   1|  249.849661551724|\n",
      "|   2| 256.3394302793296|\n",
      "|   3| 252.2195236800001|\n",
      "|   4|254.56417550200797|\n",
      "|   5|255.63008305555562|\n",
      "|   6|248.70244679824566|\n",
      "|   7|246.08352741035876|\n",
      "|   8|248.70491044247797|\n",
      "|   9| 255.2532473376623|\n",
      "|  10|250.10743448851755|\n",
      "|  11|250.68271084710747|\n",
      "|  12|253.62343641860488|\n",
      "|  13|244.52912132596697|\n",
      "|  14| 247.8121510508474|\n",
      "|  15|245.07934669260686|\n",
      "|  16|244.07686028225814|\n",
      "|  17|  252.557046612466|\n",
      "|  18|246.87570682666652|\n",
      "|  19|252.24908469298236|\n",
      "|  20|245.94171312775322|\n",
      "|  21|242.34550662303656|\n",
      "|  22|252.98646897350986|\n",
      "|  23| 236.7677098579545|\n",
      "+----+------------------+\n",
      "\n"
     ]
    }
   ],
   "source": [
    "# .sort(user_log_valid_2_mut.hour.cast(\"int\")) \\\n",
    "user_log_valid_2_mut \\\n",
    "    .groupBy('hour') \\\n",
    "    .avg('length') \\\n",
    "    .sort('hour') \\\n",
    "    .show(24)"
   ]
  },
  {
   "cell_type": "code",
   "execution_count": 115,
   "metadata": {},
   "outputs": [
    {
     "name": "stdout",
     "output_type": "stream",
     "text": [
      "+-----+------+------------------+\n",
      "|level|gender|       avg(length)|\n",
      "+-----+------+------------------+\n",
      "| free|     M|248.52634725560546|\n",
      "| paid|     F|249.04044376862367|\n",
      "| paid|     M|249.82139310562144|\n",
      "| free|     F| 251.6365394303153|\n",
      "+-----+------+------------------+\n",
      "\n"
     ]
    }
   ],
   "source": [
    "# .groupBy(user_log_valid_2_mut['level'], user_log_valid_2_mut['gender']) \\\n",
    "user_log_valid_2_mut \\\n",
    "    .groupBy(user_log_valid_2_mut.level, user_log_valid_2_mut.gender) \\\n",
    "    .avg('length') \\\n",
    "    .sort('avg(length)') \\\n",
    "    .show()"
   ]
  },
  {
   "cell_type": "code",
   "execution_count": 116,
   "metadata": {},
   "outputs": [
    {
     "name": "stdout",
     "output_type": "stream",
     "text": [
      "+-----+---------+------------------+\n",
      "|level|max(hour)|       avg(length)|\n",
      "+-----+---------+------------------+\n",
      "| free|       23| 249.9836012631079|\n",
      "| paid|       23|249.53620725396027|\n",
      "+-----+---------+------------------+\n",
      "\n"
     ]
    }
   ],
   "source": [
    "user_log_valid_2_mut \\\n",
    "    .groupBy('level') \\\n",
    "    .agg({'length': 'avg', 'hour' : 'max'}) \\\n",
    "    .show()"
   ]
  },
  {
   "cell_type": "code",
   "execution_count": 127,
   "metadata": {},
   "outputs": [
    {
     "name": "stdout",
     "output_type": "stream",
     "text": [
      "+------+--------+\n",
      "|userId|    page|\n",
      "+------+--------+\n",
      "|  1046|NextSong|\n",
      "|  1000|NextSong|\n",
      "|  2219|NextSong|\n",
      "|  2373|NextSong|\n",
      "|  1747|    Home|\n",
      "|  1747|Settings|\n",
      "|  1162|NextSong|\n",
      "|  1061|NextSong|\n",
      "|   748|    Home|\n",
      "|   597|    Home|\n",
      "+------+--------+\n",
      "only showing top 10 rows\n",
      "\n"
     ]
    }
   ],
   "source": [
    "user_log_valid_2_mut.select(user_log_valid_2_mut.userId, user_log_valid_2_mut.page).show(10)"
   ]
  },
  {
   "cell_type": "code",
   "execution_count": 128,
   "metadata": {},
   "outputs": [
    {
     "name": "stdout",
     "output_type": "stream",
     "text": [
      "+------+-----+\n",
      "|userId|count|\n",
      "+------+-----+\n",
      "|    58|  313|\n",
      "|  1647|  199|\n",
      "|  1232|  180|\n",
      "|   748|  162|\n",
      "|  2481|  148|\n",
      "|  1865|  137|\n",
      "|   462|  122|\n",
      "|  1950|  122|\n",
      "|  1806|  121|\n",
      "|  2160|  118|\n",
      "|   644|  115|\n",
      "|  1035|  103|\n",
      "|  1290|  100|\n",
      "|   523|   99|\n",
      "|   649|   97|\n",
      "|  2290|   92|\n",
      "|  2462|   92|\n",
      "|  1776|   90|\n",
      "|  2892|   89|\n",
      "|  2359|   87|\n",
      "+------+-----+\n",
      "only showing top 20 rows\n",
      "\n"
     ]
    }
   ],
   "source": [
    "user_log_valid_2_mut \\\n",
    "    .groupBy('userId') \\\n",
    "    .count() \\\n",
    "    .sort(desc('count')) \\\n",
    "    .show()"
   ]
  },
  {
   "cell_type": "code",
   "execution_count": 159,
   "metadata": {},
   "outputs": [
    {
     "name": "stdout",
     "output_type": "stream",
     "text": [
      "+------+--------+-----+\n",
      "|userId|    page|count|\n",
      "+------+--------+-----+\n",
      "|    10|NextSong|    2|\n",
      "|   100|NextSong|    5|\n",
      "|  1000|NextSong|    1|\n",
      "|  1003|NextSong|    1|\n",
      "|  1005|NextSong|    1|\n",
      "|  1006|NextSong|    3|\n",
      "|  1017|NextSong|   10|\n",
      "|  1019|NextSong|   22|\n",
      "|  1020|NextSong|    4|\n",
      "|  1022|NextSong|    2|\n",
      "|  1025|NextSong|    4|\n",
      "|  1030|NextSong|    1|\n",
      "|  1035|NextSong|   94|\n",
      "|  1037|NextSong|   12|\n",
      "|   104|NextSong|    6|\n",
      "|  1040|NextSong|    1|\n",
      "|  1042|NextSong|    3|\n",
      "|  1043|NextSong|    1|\n",
      "|  1046|NextSong|   27|\n",
      "|   105|NextSong|   23|\n",
      "+------+--------+-----+\n",
      "only showing top 20 rows\n",
      "\n"
     ]
    }
   ],
   "source": [
    "user_log_valid_2_mut \\\n",
    "    .groupBy(user_log_valid_2_mut.userId, user_log_valid_2_mut.page) \\\n",
    "    .count() \\\n",
    "    .filter(user_log_valid_2_mut.page == \"NextSong\") \\\n",
    "    .sort(user_log_valid_2_mut.userId) \\\n",
    "    .show()"
   ]
  },
  {
   "cell_type": "code",
   "execution_count": 129,
   "metadata": {},
   "outputs": [],
   "source": [
    "flag_nextsong_event = udf(lambda x: 1 if x == 'NextSong' else 0, IntegerType())"
   ]
  },
  {
   "cell_type": "code",
   "execution_count": 130,
   "metadata": {},
   "outputs": [],
   "source": [
    "user_log_valid_3_mut = user_log_valid_2_mut.withColumn('clickNext', flag_nextsong_event('page'))"
   ]
  },
  {
   "cell_type": "code",
   "execution_count": 138,
   "metadata": {},
   "outputs": [
    {
     "name": "stdout",
     "output_type": "stream",
     "text": [
      "+------+-------------+--------+---------+\n",
      "|userId|           ts|    page|clickNext|\n",
      "+------+-------------+--------+---------+\n",
      "|    10|1513790894284|NextSong|        1|\n",
      "|    10|1513828388284|NextSong|        1|\n",
      "|   100|1513750214284|NextSong|        1|\n",
      "|   100|1513750442284|NextSong|        1|\n",
      "|   100|1513775431284|    Home|        0|\n",
      "|   100|1513775556284|NextSong|        1|\n",
      "|   100|1513775710284|NextSong|        1|\n",
      "|   100|1513776194284|    Home|        0|\n",
      "|   100|1513776308284|NextSong|        1|\n",
      "|   100|1513839673284|    Home|        0|\n",
      "|  1000|1513720878284|NextSong|        1|\n",
      "|  1003|1513749501284|    Home|        0|\n",
      "|  1003|1513749516284|NextSong|        1|\n",
      "|  1003|1513749525284|    Home|        0|\n",
      "|  1005|1513782278284|NextSong|        1|\n",
      "|  1006|1513773548284|NextSong|        1|\n",
      "|  1006|1513773777284|NextSong|        1|\n",
      "|  1006|1513774019284|NextSong|        1|\n",
      "|  1017|1513817806284|NextSong|        1|\n",
      "|  1017|1513818023284|NextSong|        1|\n",
      "+------+-------------+--------+---------+\n",
      "only showing top 20 rows\n",
      "\n"
     ]
    }
   ],
   "source": [
    "user_log_valid_3_mut \\\n",
    "    .select(user_log_valid_3_mut.userId, \n",
    "            user_log_valid_3_mut.ts, \n",
    "            user_log_valid_3_mut.page, \n",
    "            user_log_valid_3_mut.clickNext) \\\n",
    "    .sort(user_log_valid_3_mut.userId, user_log_valid_3_mut.ts) \\\n",
    "    .show()"
   ]
  },
  {
   "cell_type": "code",
   "execution_count": 140,
   "metadata": {},
   "outputs": [],
   "source": [
    "window_eval_2 = Window \\\n",
    "    .partitionBy(\"userId\") \\\n",
    "    .orderBy(asc(\"ts\")) \\\n",
    "    .rangeBetween(Window.unboundedPreceding, 0)"
   ]
  },
  {
   "cell_type": "code",
   "execution_count": 150,
   "metadata": {},
   "outputs": [],
   "source": [
    "# user_log_valid_2_mut_2 = user_log_valid_2_mut.withColumn(\"phase\", Fsum(\"downgraded\").over(windoweval))\n",
    "user_log_valid_3_mut_3 = user_log_valid_3_mut \\\n",
    "    .withColumn('nextSongRunSum', Fsum('clickNext').over(window_eval_2))"
   ]
  },
  {
   "cell_type": "code",
   "execution_count": 151,
   "metadata": {},
   "outputs": [
    {
     "name": "stdout",
     "output_type": "stream",
     "text": [
      "+------+-------------+--------+---------+--------------+\n",
      "|userId|           ts|    page|clickNext|nextSongRunSum|\n",
      "+------+-------------+--------+---------+--------------+\n",
      "|    10|1513790894284|NextSong|        1|             1|\n",
      "|    10|1513828388284|NextSong|        1|             2|\n",
      "|   100|1513750214284|NextSong|        1|             1|\n",
      "|   100|1513750442284|NextSong|        1|             2|\n",
      "|   100|1513775431284|    Home|        0|             2|\n",
      "|   100|1513775556284|NextSong|        1|             3|\n",
      "|   100|1513775710284|NextSong|        1|             4|\n",
      "|   100|1513776194284|    Home|        0|             4|\n",
      "|   100|1513776308284|NextSong|        1|             5|\n",
      "|   100|1513839673284|    Home|        0|             5|\n",
      "|  1000|1513720878284|NextSong|        1|             1|\n",
      "|  1003|1513749501284|    Home|        0|             0|\n",
      "|  1003|1513749516284|NextSong|        1|             1|\n",
      "|  1003|1513749525284|    Home|        0|             1|\n",
      "|  1005|1513782278284|NextSong|        1|             1|\n",
      "|  1006|1513773548284|NextSong|        1|             1|\n",
      "|  1006|1513773777284|NextSong|        1|             2|\n",
      "|  1006|1513774019284|NextSong|        1|             3|\n",
      "|  1017|1513817806284|NextSong|        1|             1|\n",
      "|  1017|1513818023284|NextSong|        1|             2|\n",
      "+------+-------------+--------+---------+--------------+\n",
      "only showing top 20 rows\n",
      "\n"
     ]
    }
   ],
   "source": [
    "user_log_valid_3_mut_3 \\\n",
    "    .select(user_log_valid_3_mut_3.userId, \n",
    "            user_log_valid_3_mut_3.ts, \n",
    "            user_log_valid_3_mut_3.page, \n",
    "            user_log_valid_3_mut_3.clickNext,\n",
    "            user_log_valid_3_mut_3.nextSongRunSum) \\\n",
    "    .sort(user_log_valid_3_mut_3.userId,\n",
    "          user_log_valid_3_mut_3.ts) \\\n",
    "    .show()"
   ]
  },
  {
   "cell_type": "code",
   "execution_count": 158,
   "metadata": {},
   "outputs": [
    {
     "name": "stdout",
     "output_type": "stream",
     "text": [
      "+------+-------------------+\n",
      "|userId|max(nextSongRunSum)|\n",
      "+------+-------------------+\n",
      "|    10|                  2|\n",
      "|   100|                  5|\n",
      "|  1000|                  1|\n",
      "|  1003|                  1|\n",
      "|  1005|                  1|\n",
      "|  1006|                  3|\n",
      "|  1017|                 10|\n",
      "|  1019|                 22|\n",
      "|  1020|                  4|\n",
      "|  1022|                  2|\n",
      "|  1025|                  4|\n",
      "|  1030|                  1|\n",
      "|  1035|                 94|\n",
      "|  1037|                 12|\n",
      "|   104|                  6|\n",
      "|  1040|                  1|\n",
      "|  1042|                  3|\n",
      "|  1043|                  1|\n",
      "|  1046|                 27|\n",
      "|  1048|                  0|\n",
      "+------+-------------------+\n",
      "only showing top 20 rows\n",
      "\n"
     ]
    }
   ],
   "source": [
    "#     .select(user_log_valid_3_mut_3.userId, \n",
    "#             user_log_valid_3_mut_3.ts, \n",
    "#             user_log_valid_3_mut_3.page, \n",
    "#             user_log_valid_3_mut_3.clickNext,\n",
    "#             user_log_valid_3_mut_3.nextSongRunSum) \\\n",
    "#     .sort(user_log_valid_3_mut_3.userId,\n",
    "#           user_log_valid_3_mut_3.ts) \\\n",
    "# user_log_valid_3_mut_3 \\\n",
    "#     .groupBy(user_log_valid_3_mut_3.userId) \\\n",
    "#     .max(user_log_valid_3_mut_3.length) \\\n",
    "#     .show()\n",
    "user_log_valid_3_mut_3 \\\n",
    "    .groupBy(user_log_valid_3_mut_3.userId) \\\n",
    "    .max('nextSongRunSum') \\\n",
    "    .sort(user_log_valid_3_mut_3.userId) \\\n",
    "    .show()"
   ]
  },
  {
   "cell_type": "code",
   "execution_count": 167,
   "metadata": {},
   "outputs": [
    {
     "name": "stdout",
     "output_type": "stream",
     "text": [
      "+-----+\n",
      "| page|\n",
      "+-----+\n",
      "| Home|\n",
      "|About|\n",
      "|Login|\n",
      "| Help|\n",
      "+-----+\n",
      "\n"
     ]
    }
   ],
   "source": [
    "user_log \\\n",
    "    .filter(user_log.userId == \"\") \\\n",
    "    .select('page') \\\n",
    "    .dropDuplicates() \\\n",
    "    .show()"
   ]
  },
  {
   "cell_type": "code",
   "execution_count": 172,
   "metadata": {},
   "outputs": [
    {
     "name": "stdout",
     "output_type": "stream",
     "text": [
      "+------+-----+\n",
      "|gender|count|\n",
      "+------+-----+\n",
      "|     F|  462|\n",
      "|  null|    1|\n",
      "|     M|  501|\n",
      "+------+-----+\n",
      "\n"
     ]
    }
   ],
   "source": [
    "user_log \\\n",
    "    .select(['userId', 'gender']) \\\n",
    "    .dropDuplicates() \\\n",
    "    .groupBy('gender') \\\n",
    "    .count() \\\n",
    "    .show()"
   ]
  },
  {
   "cell_type": "code",
   "execution_count": 173,
   "metadata": {},
   "outputs": [
    {
     "name": "stdout",
     "output_type": "stream",
     "text": [
      "+--------------------+---------+---------+------+-------------+---------+---------+-----+--------------------+------+--------+-------------+---------+--------------------+------+-------------+--------------------+------+\n",
      "|              artist|     auth|firstName|gender|itemInSession| lastName|   length|level|            location|method|    page| registration|sessionId|                song|status|           ts|           userAgent|userId|\n",
      "+--------------------+---------+---------+------+-------------+---------+---------+-----+--------------------+------+--------+-------------+---------+--------------------+------+-------------+--------------------+------+\n",
      "|       Showaddywaddy|Logged In|  Kenneth|     M|          112| Matthews|232.93342| paid|Charlotte-Concord...|   PUT|NextSong|1509380319284|     5132|Christmas Tears W...|   200|1513720872284|\"Mozilla/5.0 (Win...|  1046|\n",
      "|          Lily Allen|Logged In|Elizabeth|     F|            7|    Chase|195.23873| free|Shreveport-Bossie...|   PUT|NextSong|1512718541284|     5027|       Cheryl Tweedy|   200|1513720878284|\"Mozilla/5.0 (Win...|  1000|\n",
      "|Cobra Starship Fe...|Logged In|     Vera|     F|            6|Blackwell|196.20526| paid|          Racine, WI|   PUT|NextSong|1499855749284|     5516|Good Girls Go Bad...|   200|1513720881284|\"Mozilla/5.0 (Mac...|  2219|\n",
      "|          Alex Smoke|Logged In|   Sophee|     F|            8|   Barker|405.99465| paid|San Luis Obispo-P...|   PUT|NextSong|1513009647284|     2372| Don't See The Point|   200|1513720905284|\"Mozilla/5.0 (Win...|  2373|\n",
      "|                null|Logged In|   Jordyn|     F|            0|    Jones|     null| free|        Syracuse, NY|   GET|    Home|1513648531284|     1746|                null|   200|1513720913284|\"Mozilla/5.0 (Mac...|  1747|\n",
      "|                null|Logged In|   Jordyn|     F|            1|    Jones|     null| free|        Syracuse, NY|   GET|Settings|1513648531284|     1746|                null|   200|1513720932284|\"Mozilla/5.0 (Mac...|  1747|\n",
      "|              Redman|Logged In|    Paige|     F|            0|   Hunter|154.53995| free|       Brownwood, TX|   PUT|NextSong|1498414068284|     4406|        Smoke Buddah|   200|1513720955284|\"Mozilla/5.0 (Mac...|  1162|\n",
      "|     Ulrich Schnauss|Logged In|  Gabriel|     M|            2|     Koch|402.93832| paid|     Panama City, FL|   PUT|NextSong|1505820418284|     1060|           On My Own|   200|1513720959284|Mozilla/5.0 (Wind...|  1061|\n",
      "|                null|Logged In|    Mason|     M|            2|   Thomas|     null| paid|Indianapolis-Carm...|   GET|    Home|1487015656284|     5661|                null|   200|1513720959284|Mozilla/5.0 (comp...|   748|\n",
      "|                null|Logged In|Alexander|     M|            0|    Short|     null| free|       Green Bay, WI|   GET|    Home|1513594398284|     3689|                null|   200|1513720980284|\"Mozilla/5.0 (Win...|   597|\n",
      "|               Jay-Z|Logged In|  Micheal|     M|           23|   Morgan|223.26812| paid|        Sterling, CO|   PUT|NextSong|1485051492284|     5175|Heart Of The City...|   200|1513720983284|\"Mozilla/5.0 (Win...|  1806|\n",
      "|         Evanescence|Logged In|    Mason|     M|            3|   Thomas|237.11302| paid|Indianapolis-Carm...|   PUT|NextSong|1487015656284|     5661|    Bring Me To Life|   200|1513720993284|Mozilla/5.0 (comp...|   748|\n",
      "|     Scissor Sisters|Logged In|   Justin|     M|           82|    Jones|218.01751| paid|          Dayton, TN|   PUT|NextSong|1504706730284|     1175|               Laura|   200|1513721031284|\"Mozilla/5.0 (Win...|  1176|\n",
      "|        3 Doors Down|Logged In|     Zoie|     F|           28|   Wright|237.13914| paid|Chicago-Napervill...|   PUT|NextSong|1512172030284|     2163|    Here Without You|   200|1513721045284|\"Mozilla/5.0 (Mac...|  2164|\n",
      "|       George Younce|Logged In|  Malachi|     M|            3|     Lane|191.68608| free|     Sioux Falls, SD|   PUT|NextSong|1510109243284|     5272|This Old House w/...|   200|1513721058284|Mozilla/5.0 (Wind...|  2146|\n",
      "|              Aly-Us|Logged In|     Vera|     F|            7|Blackwell|383.58159| paid|          Racine, WI|   PUT|NextSong|1499855749284|     5516|Follow Me (Club Mix)|   200|1513721077284|\"Mozilla/5.0 (Mac...|  2219|\n",
      "|                null|Logged In|   Justin|     M|           83|    Jones|     null| paid|          Dayton, TN|   GET|    Home|1504706730284|     1175|                null|   200|1513721088284|\"Mozilla/5.0 (Win...|  1176|\n",
      "|            BjÃÂ¶rk|Logged In|    Elena|     F|            0|   Newman|348.57751| free|Boston-Cambridge-...|   PUT|NextSong|1513494341284|     2903|                Undo|   200|1513721095284|Mozilla/5.0 (Wind...|  2904|\n",
      "|      David Bromberg|Logged In|Alexander|     M|            1|    Short|146.36363| free|       Green Bay, WI|   PUT|NextSong|1513594398284|     3689|Sheebeg And Sheemore|   200|1513721097284|\"Mozilla/5.0 (Win...|   597|\n",
      "|          Nickelback|Logged In|  Abigail|     F|            4| Davidson|238.18404| paid|Lansing-East Lans...|   PUT|NextSong|1513173389284|     4591|Far Away (Album V...|   200|1513721104284|\"Mozilla/5.0 (Mac...|   226|\n",
      "+--------------------+---------+---------+------+-------------+---------+---------+-----+--------------------+------+--------+-------------+---------+--------------------+------+-------------+--------------------+------+\n",
      "only showing top 20 rows\n",
      "\n"
     ]
    }
   ],
   "source": [
    "user_log.show()"
   ]
  },
  {
   "cell_type": "code",
   "execution_count": 176,
   "metadata": {},
   "outputs": [
    {
     "name": "stdout",
     "output_type": "stream",
     "text": [
      "+--------------------+-----+\n",
      "|              artist|count|\n",
      "+--------------------+-----+\n",
      "|            Coldplay|   83|\n",
      "|       Kings Of Leon|   69|\n",
      "|Florence + The Ma...|   52|\n",
      "|            BjÃÂ¶rk|   46|\n",
      "|       Dwight Yoakam|   45|\n",
      "|       Justin Bieber|   43|\n",
      "|      The Black Keys|   40|\n",
      "|         OneRepublic|   37|\n",
      "|                Muse|   36|\n",
      "|        Jack Johnson|   36|\n",
      "|           Radiohead|   31|\n",
      "|        Taylor Swift|   29|\n",
      "|          Lily Allen|   28|\n",
      "|               Train|   28|\n",
      "|Barry Tuckwell/Ac...|   28|\n",
      "|           Daft Punk|   27|\n",
      "|           Metallica|   27|\n",
      "|          Nickelback|   27|\n",
      "|          Kanye West|   26|\n",
      "|Red Hot Chili Pep...|   24|\n",
      "+--------------------+-----+\n",
      "only showing top 20 rows\n",
      "\n"
     ]
    }
   ],
   "source": [
    "user_log \\\n",
    "    .filter(user_log.page == \"NextSong\") \\\n",
    "    .groupBy('artist') \\\n",
    "    .count() \\\n",
    "    .sort(desc('count')) \\\n",
    "    .show()"
   ]
  },
  {
   "cell_type": "code",
   "execution_count": 199,
   "metadata": {},
   "outputs": [
    {
     "name": "stdout",
     "output_type": "stream",
     "text": [
      "+------+-------------+--------+\n",
      "|userId|           ts|    page|\n",
      "+------+-------------+--------+\n",
      "|    10|1513790894284|NextSong|\n",
      "|    10|1513828388284|NextSong|\n",
      "|   100|1513750214284|NextSong|\n",
      "|   100|1513750442284|NextSong|\n",
      "|   100|1513775431284|    Home|\n",
      "|   100|1513775556284|NextSong|\n",
      "|   100|1513775710284|NextSong|\n",
      "|   100|1513776194284|    Home|\n",
      "|   100|1513776308284|NextSong|\n",
      "|   100|1513839673284|    Home|\n",
      "|  1000|1513720878284|NextSong|\n",
      "|  1003|1513749501284|    Home|\n",
      "|  1003|1513749516284|NextSong|\n",
      "|  1003|1513749525284|    Home|\n",
      "|  1005|1513782278284|NextSong|\n",
      "|  1006|1513773548284|NextSong|\n",
      "|  1006|1513773777284|NextSong|\n",
      "|  1006|1513774019284|NextSong|\n",
      "|  1017|1513817806284|NextSong|\n",
      "|  1017|1513818023284|NextSong|\n",
      "+------+-------------+--------+\n",
      "only showing top 20 rows\n",
      "\n"
     ]
    }
   ],
   "source": [
    "user_log \\\n",
    "    .filter(user_log.userId != \"\") \\\n",
    "    .filter((user_log.page == \"NextSong\") | (user_log.page == \"Home\")) \\\n",
    "    .select(['userId', 'ts', 'page']) \\\n",
    "    .sort(['userId', 'ts']) \\\n",
    "    .show()"
   ]
  },
  {
   "cell_type": "code",
   "execution_count": 224,
   "metadata": {},
   "outputs": [],
   "source": [
    "# TODO: filter out 0 sum and max sum to get more exact answer\n",
    "\n",
    "from pyspark.sql.functions import col\n",
    "from pyspark.sql.functions import asc\n",
    "from pyspark.sql.functions import desc\n",
    "\n",
    "\n",
    "function = udf(lambda ishome : int(ishome == 'Home'), IntegerType())\n",
    "\n",
    "user_window = Window \\\n",
    "    .partitionBy('userID') \\\n",
    "    .orderBy(desc('ts')) \\\n",
    "    .rangeBetween(Window.unboundedPreceding, 0)"
   ]
  },
  {
   "cell_type": "code",
   "execution_count": 225,
   "metadata": {},
   "outputs": [],
   "source": [
    "cusum = user_log \\\n",
    "    .filter((user_log.page == 'NextSong') | (user_log.page == 'Home')) \\\n",
    "    .select('userID', 'page', 'ts') \\\n",
    "    .withColumn('homevisit', function(col('page'))) \\\n",
    "    .withColumn('period', Fsum('homevisit').over(user_window))"
   ]
  },
  {
   "cell_type": "code",
   "execution_count": 230,
   "metadata": {},
   "outputs": [
    {
     "name": "stdout",
     "output_type": "stream",
     "text": [
      "+------+--------+-------------+---------+------+\n",
      "|userID|    page|           ts|homevisit|period|\n",
      "+------+--------+-------------+---------+------+\n",
      "|    10|NextSong|1513828388284|        0|     0|\n",
      "|    10|NextSong|1513790894284|        0|     0|\n",
      "|   100|    Home|1513839673284|        1|     1|\n",
      "|   100|NextSong|1513776308284|        0|     1|\n",
      "|   100|    Home|1513776194284|        1|     2|\n",
      "|   100|NextSong|1513775710284|        0|     2|\n",
      "|   100|NextSong|1513775556284|        0|     2|\n",
      "|   100|    Home|1513775431284|        1|     3|\n",
      "|   100|NextSong|1513750442284|        0|     3|\n",
      "|   100|NextSong|1513750214284|        0|     3|\n",
      "|  1000|NextSong|1513720878284|        0|     0|\n",
      "|  1003|    Home|1513749525284|        1|     1|\n",
      "|  1003|NextSong|1513749516284|        0|     1|\n",
      "|  1003|    Home|1513749501284|        1|     2|\n",
      "|  1005|NextSong|1513782278284|        0|     0|\n",
      "|  1006|NextSong|1513774019284|        0|     0|\n",
      "|  1006|NextSong|1513773777284|        0|     0|\n",
      "|  1006|NextSong|1513773548284|        0|     0|\n",
      "|  1017|NextSong|1513822643284|        0|     0|\n",
      "|  1017|    Home|1513822400284|        1|     1|\n",
      "|  1017|NextSong|1513821682284|        0|     1|\n",
      "|  1017|NextSong|1513821424284|        0|     1|\n",
      "|  1017|NextSong|1513821152284|        0|     1|\n",
      "|  1017|    Home|1513820906284|        1|     2|\n",
      "|  1017|NextSong|1513819172284|        0|     2|\n",
      "|  1017|NextSong|1513818931284|        0|     2|\n",
      "|  1017|NextSong|1513818718284|        0|     2|\n",
      "|  1017|NextSong|1513818488284|        0|     2|\n",
      "|  1017|NextSong|1513818023284|        0|     2|\n",
      "|  1017|NextSong|1513817806284|        0|     2|\n",
      "|  1019|NextSong|1513830645284|        0|     0|\n",
      "|  1019|NextSong|1513830459284|        0|     0|\n",
      "|  1019|NextSong|1513830220284|        0|     0|\n",
      "|  1019|NextSong|1513830061284|        0|     0|\n",
      "|  1019|NextSong|1513829839284|        0|     0|\n",
      "|  1019|NextSong|1513829613284|        0|     0|\n",
      "|  1019|NextSong|1513829218284|        0|     0|\n",
      "|  1019|NextSong|1513828949284|        0|     0|\n",
      "|  1019|NextSong|1513828654284|        0|     0|\n",
      "|  1019|NextSong|1513828389284|        0|     0|\n",
      "|  1019|NextSong|1513828147284|        0|     0|\n",
      "|  1019|NextSong|1513827978284|        0|     0|\n",
      "|  1019|NextSong|1513827810284|        0|     0|\n",
      "|  1019|NextSong|1513827346284|        0|     0|\n",
      "|  1019|NextSong|1513827155284|        0|     0|\n",
      "|  1019|NextSong|1513826963284|        0|     0|\n",
      "|  1019|    Home|1513826961284|        1|     1|\n",
      "|  1019|    Home|1513797224284|        1|     2|\n",
      "|  1019|NextSong|1513791897284|        0|     2|\n",
      "|  1019|NextSong|1513791702284|        0|     2|\n",
      "+------+--------+-------------+---------+------+\n",
      "only showing top 50 rows\n",
      "\n"
     ]
    }
   ],
   "source": [
    "cusum.filter(cusum.userID != \"\").orderBy(asc('userID'), desc('ts')).show(50)"
   ]
  },
  {
   "cell_type": "code",
   "execution_count": 201,
   "metadata": {},
   "outputs": [
    {
     "name": "stdout",
     "output_type": "stream",
     "text": [
      "+------------------+\n",
      "|avg(count(period))|\n",
      "+------------------+\n",
      "| 6.898347107438017|\n",
      "+------------------+\n",
      "\n"
     ]
    }
   ],
   "source": [
    "cusum.filter((cusum.page == 'NextSong')) \\\n",
    "    .groupBy('userID', 'period') \\\n",
    "    .agg({'period':'count'}) \\\n",
    "    .agg({'count(period)':'avg'}).show()"
   ]
  },
  {
   "cell_type": "code",
   "execution_count": null,
   "metadata": {},
   "outputs": [],
   "source": []
  }
 ],
 "metadata": {
  "kernelspec": {
   "display_name": "Python 3.7.3 64-bit ('base': conda)",
   "language": "python",
   "name": "python37364bitbasecondac3d8f3a01afd44adb8fb5cbbad9cacba"
  },
  "language_info": {
   "codemirror_mode": {
    "name": "ipython",
    "version": 3
   },
   "file_extension": ".py",
   "mimetype": "text/x-python",
   "name": "python",
   "nbconvert_exporter": "python",
   "pygments_lexer": "ipython3",
   "version": "3.7.7"
  }
 },
 "nbformat": 4,
 "nbformat_minor": 4
}
