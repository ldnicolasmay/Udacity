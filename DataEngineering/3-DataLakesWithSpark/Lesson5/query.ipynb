{
 "cells": [
  {
   "cell_type": "code",
   "execution_count": 1,
   "metadata": {},
   "outputs": [
    {
     "data": {
      "application/vnd.jupyter.widget-view+json": {
       "model_id": "502830f4231c42ad9d79a96180df7786",
       "version_major": 2,
       "version_minor": 0
      },
      "text/plain": [
       "VBox()"
      ]
     },
     "metadata": {},
     "output_type": "display_data"
    },
    {
     "name": "stdout",
     "output_type": "stream",
     "text": [
      "Starting Spark application\n"
     ]
    },
    {
     "data": {
      "text/html": [
       "<table>\n",
       "<tr><th>ID</th><th>YARN Application ID</th><th>Kind</th><th>State</th><th>Spark UI</th><th>Driver log</th><th>Current session?</th></tr><tr><td>0</td><td>application_1589500149504_0003</td><td>pyspark</td><td>idle</td><td><a target=\"_blank\" href=\"http://ip-172-31-47-53.us-west-2.compute.internal:20888/proxy/application_1589500149504_0003/\">Link</a></td><td><a target=\"_blank\" href=\"http://ip-172-31-36-163.us-west-2.compute.internal:8042/node/containerlogs/container_1589500149504_0003_01_000001/livy\">Link</a></td><td>✔</td></tr></table>"
      ],
      "text/plain": [
       "<IPython.core.display.HTML object>"
      ]
     },
     "metadata": {},
     "output_type": "display_data"
    },
    {
     "data": {
      "application/vnd.jupyter.widget-view+json": {
       "model_id": "",
       "version_major": 2,
       "version_minor": 0
      },
      "text/plain": [
       "FloatProgress(value=0.0, bar_style='info', description='Progress:', layout=Layout(height='25px', width='50%'),…"
      ]
     },
     "metadata": {},
     "output_type": "display_data"
    },
    {
     "name": "stdout",
     "output_type": "stream",
     "text": [
      "SparkSession available as 'spark'.\n"
     ]
    },
    {
     "data": {
      "application/vnd.jupyter.widget-view+json": {
       "model_id": "",
       "version_major": 2,
       "version_minor": 0
      },
      "text/plain": [
       "FloatProgress(value=0.0, bar_style='info', description='Progress:', layout=Layout(height='25px', width='50%'),…"
      ]
     },
     "metadata": {},
     "output_type": "display_data"
    }
   ],
   "source": [
    "data_lake_bucket = \"s3://aws-logs-164557480116-us-west-2/elasticmapreduce/data_lake/\""
   ]
  },
  {
   "cell_type": "code",
   "execution_count": 3,
   "metadata": {},
   "outputs": [
    {
     "data": {
      "application/vnd.jupyter.widget-view+json": {
       "model_id": "3af18203274e4c139c9532efa84114e1",
       "version_major": 2,
       "version_minor": 0
      },
      "text/plain": [
       "VBox()"
      ]
     },
     "metadata": {},
     "output_type": "display_data"
    },
    {
     "data": {
      "application/vnd.jupyter.widget-view+json": {
       "model_id": "",
       "version_major": 2,
       "version_minor": 0
      },
      "text/plain": [
       "FloatProgress(value=0.0, bar_style='info', description='Progress:', layout=Layout(height='25px', width='50%'),…"
      ]
     },
     "metadata": {},
     "output_type": "display_data"
    }
   ],
   "source": [
    "df_songs = spark.read.parquet(data_lake_bucket + \"songs_table_parquet\")"
   ]
  },
  {
   "cell_type": "code",
   "execution_count": 4,
   "metadata": {},
   "outputs": [
    {
     "data": {
      "application/vnd.jupyter.widget-view+json": {
       "model_id": "bcc2536e52e14414bcc9a18766ae4019",
       "version_major": 2,
       "version_minor": 0
      },
      "text/plain": [
       "VBox()"
      ]
     },
     "metadata": {},
     "output_type": "display_data"
    },
    {
     "data": {
      "application/vnd.jupyter.widget-view+json": {
       "model_id": "",
       "version_major": 2,
       "version_minor": 0
      },
      "text/plain": [
       "FloatProgress(value=0.0, bar_style='info', description='Progress:', layout=Layout(height='25px', width='50%'),…"
      ]
     },
     "metadata": {},
     "output_type": "display_data"
    }
   ],
   "source": [
    "df_songplays = spark.read.parquet(data_lake_bucket + \"songplays_table_parquet\")"
   ]
  },
  {
   "cell_type": "code",
   "execution_count": 5,
   "metadata": {},
   "outputs": [
    {
     "data": {
      "application/vnd.jupyter.widget-view+json": {
       "model_id": "c414f08c7eb04a58a8fcd6966c45e14b",
       "version_major": 2,
       "version_minor": 0
      },
      "text/plain": [
       "VBox()"
      ]
     },
     "metadata": {},
     "output_type": "display_data"
    },
    {
     "data": {
      "application/vnd.jupyter.widget-view+json": {
       "model_id": "",
       "version_major": 2,
       "version_minor": 0
      },
      "text/plain": [
       "FloatProgress(value=0.0, bar_style='info', description='Progress:', layout=Layout(height='25px', width='50%'),…"
      ]
     },
     "metadata": {},
     "output_type": "display_data"
    }
   ],
   "source": [
    "df_join_1 = df_songplays \\\n",
    "        .select(['songplay_id', 'start_time', 'song_id']) \\\n",
    "        .join(df_songs, ['song_id']) \\\n",
    "        .limit(10)"
   ]
  },
  {
   "cell_type": "code",
   "execution_count": 7,
   "metadata": {},
   "outputs": [
    {
     "data": {
      "application/vnd.jupyter.widget-view+json": {
       "model_id": "f18f8989f62e4e0da8de534b3c351f01",
       "version_major": 2,
       "version_minor": 0
      },
      "text/plain": [
       "VBox()"
      ]
     },
     "metadata": {},
     "output_type": "display_data"
    },
    {
     "data": {
      "application/vnd.jupyter.widget-view+json": {
       "model_id": "",
       "version_major": 2,
       "version_minor": 0
      },
      "text/plain": [
       "FloatProgress(value=0.0, bar_style='info', description='Progress:', layout=Layout(height='25px', width='50%'),…"
      ]
     },
     "metadata": {},
     "output_type": "display_data"
    },
    {
     "name": "stdout",
     "output_type": "stream",
     "text": [
      "root\n",
      " |-- song_id: string (nullable = true)\n",
      " |-- songplay_id: long (nullable = true)\n",
      " |-- start_time: timestamp (nullable = true)\n",
      " |-- title: string (nullable = true)\n",
      " |-- artist_name: string (nullable = true)\n",
      " |-- duration: double (nullable = true)\n",
      " |-- year: integer (nullable = true)\n",
      " |-- artist_id: string (nullable = true)"
     ]
    }
   ],
   "source": [
    "df_join_1.printSchema()"
   ]
  },
  {
   "cell_type": "code",
   "execution_count": 6,
   "metadata": {},
   "outputs": [
    {
     "data": {
      "application/vnd.jupyter.widget-view+json": {
       "model_id": "fb500b6a477a46ff974b399ceb450637",
       "version_major": 2,
       "version_minor": 0
      },
      "text/plain": [
       "VBox()"
      ]
     },
     "metadata": {},
     "output_type": "display_data"
    },
    {
     "data": {
      "application/vnd.jupyter.widget-view+json": {
       "model_id": "",
       "version_major": 2,
       "version_minor": 0
      },
      "text/plain": [
       "FloatProgress(value=0.0, bar_style='info', description='Progress:', layout=Layout(height='25px', width='50%'),…"
      ]
     },
     "metadata": {},
     "output_type": "display_data"
    },
    {
     "name": "stdout",
     "output_type": "stream",
     "text": [
      "+------------------+-------------+--------------------+--------------------+------------------+---------+----+------------------+\n",
      "|           song_id|  songplay_id|          start_time|               title|       artist_name| duration|year|         artist_id|\n",
      "+------------------+-------------+--------------------+--------------------+------------------+---------+----+------------------+\n",
      "|SONQBUB12A6D4F8ED0| 463856467969|2018-11-24 12:43:...|Angie (1993 Digit...|The Rolling Stones|271.49016|   0|ARFCUN31187B9AD578|\n",
      "|SONQBUB12A6D4F8ED0| 463856467968|2018-11-26 18:25:...|Angie (1993 Digit...|The Rolling Stones|271.49016|   0|ARFCUN31187B9AD578|\n",
      "|SOKQFRT12A8C132F46|1022202216448|2018-11-05 18:26:...|The Train Kept A ...|     The Yardbirds|206.10567|1991|AR0N7RH1187B9B7497|\n",
      "|SOECIFL12A6D4F78FE|1125281431552|2018-11-08 19:05:...|I Am Trying to Br...|             Wilco|363.96363|2002|AR6SPRZ1187FB4958B|\n",
      "|SOCHRXB12A8AE48069|1194000908290|2018-11-20 17:46:...|Let's Get It Started|   Black Eyed Peas|229.61587|2004|ARTDQRC1187FB4EFD4|\n",
      "|SOCHRXB12A8AE48069|1194000908289|2018-11-27 18:09:...|Let's Get It Started|   Black Eyed Peas|229.61587|2004|ARTDQRC1187FB4EFD4|\n",
      "|SOCHRXB12A8AE48069|1194000908288|2018-11-11 15:00:...|Let's Get It Started|   Black Eyed Peas|229.61587|2004|ARTDQRC1187FB4EFD4|\n",
      "|SOLLOSO12AB0184A7A|1202590842880|2018-11-26 11:35:...|Missing (Live in ...|       Evanescence|255.13751|   0|ARVXU2X1187B9AE6D8|\n",
      "|SODVXIB12AF72A37F3|1219770712064|2018-11-30 17:31:...|Settle For A Slow...|    Dierks Bentley|  223.242|2005|AR3FYKL1187FB44945|\n",
      "|SOTVSNZ12A8C13DA01|1314259992576|2018-11-20 20:17:...|Dragostea din tin...|            O-Zone| 213.7073|   0|ARF8JDZ1187FB37A42|\n",
      "+------------------+-------------+--------------------+--------------------+------------------+---------+----+------------------+"
     ]
    }
   ],
   "source": [
    "df_join_1.show()"
   ]
  },
  {
   "cell_type": "code",
   "execution_count": 8,
   "metadata": {},
   "outputs": [
    {
     "data": {
      "application/vnd.jupyter.widget-view+json": {
       "model_id": "a9ed123f41864eb9a4ed3d9dc8ce0e60",
       "version_major": 2,
       "version_minor": 0
      },
      "text/plain": [
       "VBox()"
      ]
     },
     "metadata": {},
     "output_type": "display_data"
    },
    {
     "data": {
      "application/vnd.jupyter.widget-view+json": {
       "model_id": "",
       "version_major": 2,
       "version_minor": 0
      },
      "text/plain": [
       "FloatProgress(value=0.0, bar_style='info', description='Progress:', layout=Layout(height='25px', width='50%'),…"
      ]
     },
     "metadata": {},
     "output_type": "display_data"
    }
   ],
   "source": [
    "df_users = spark.read.parquet(data_lake_bucket + \"users_table_parquet\")"
   ]
  },
  {
   "cell_type": "code",
   "execution_count": 12,
   "metadata": {},
   "outputs": [
    {
     "data": {
      "application/vnd.jupyter.widget-view+json": {
       "model_id": "985ae8f2114f42f989eee4b22c0c8764",
       "version_major": 2,
       "version_minor": 0
      },
      "text/plain": [
       "VBox()"
      ]
     },
     "metadata": {},
     "output_type": "display_data"
    },
    {
     "data": {
      "application/vnd.jupyter.widget-view+json": {
       "model_id": "",
       "version_major": 2,
       "version_minor": 0
      },
      "text/plain": [
       "FloatProgress(value=0.0, bar_style='info', description='Progress:', layout=Layout(height='25px', width='50%'),…"
      ]
     },
     "metadata": {},
     "output_type": "display_data"
    }
   ],
   "source": [
    "df_join_2 = df_songplays \\\n",
    "        .select(['songplay_id', 'user_id', 'location']) \\\n",
    "        .join(df_users, ['user_id']) \\\n",
    "        .limit(10)"
   ]
  },
  {
   "cell_type": "code",
   "execution_count": 13,
   "metadata": {},
   "outputs": [
    {
     "data": {
      "application/vnd.jupyter.widget-view+json": {
       "model_id": "b8001370577f4e8ea174a33a24427ee3",
       "version_major": 2,
       "version_minor": 0
      },
      "text/plain": [
       "VBox()"
      ]
     },
     "metadata": {},
     "output_type": "display_data"
    },
    {
     "data": {
      "application/vnd.jupyter.widget-view+json": {
       "model_id": "",
       "version_major": 2,
       "version_minor": 0
      },
      "text/plain": [
       "FloatProgress(value=0.0, bar_style='info', description='Progress:', layout=Layout(height='25px', width='50%'),…"
      ]
     },
     "metadata": {},
     "output_type": "display_data"
    },
    {
     "name": "stdout",
     "output_type": "stream",
     "text": [
      "root\n",
      " |-- user_id: string (nullable = true)\n",
      " |-- songplay_id: long (nullable = true)\n",
      " |-- location: string (nullable = true)\n",
      " |-- first_name: string (nullable = true)\n",
      " |-- last_name: string (nullable = true)\n",
      " |-- gender: string (nullable = true)\n",
      " |-- level: string (nullable = true)"
     ]
    }
   ],
   "source": [
    "df_join_2.printSchema()"
   ]
  },
  {
   "cell_type": "code",
   "execution_count": 14,
   "metadata": {},
   "outputs": [
    {
     "data": {
      "application/vnd.jupyter.widget-view+json": {
       "model_id": "f66ac2fed9e345cab108654bb9dfc857",
       "version_major": 2,
       "version_minor": 0
      },
      "text/plain": [
       "VBox()"
      ]
     },
     "metadata": {},
     "output_type": "display_data"
    },
    {
     "data": {
      "application/vnd.jupyter.widget-view+json": {
       "model_id": "",
       "version_major": 2,
       "version_minor": 0
      },
      "text/plain": [
       "FloatProgress(value=0.0, bar_style='info', description='Progress:', layout=Layout(height='25px', width='50%'),…"
      ]
     },
     "metadata": {},
     "output_type": "display_data"
    },
    {
     "name": "stdout",
     "output_type": "stream",
     "text": [
      "+-------+------------+--------------------+----------+---------+------+-----+\n",
      "|user_id| songplay_id|            location|first_name|last_name|gender|level|\n",
      "+-------+------------+--------------------+----------+---------+------+-----+\n",
      "|     15|111669149696|Chicago-Napervill...|      Lily|     Koch|     F| paid|\n",
      "|     15|111669149696|Chicago-Napervill...|      Lily|     Koch|     F| free|\n",
      "|     83|111669149697|         Lubbock, TX|   Stefany|    White|     F| free|\n",
      "|     10|111669149698|Washington-Arling...|    Sylvie|     Cruz|     F| free|\n",
      "|     97|111669149699|Lansing-East Lans...|      Kate|  Harrell|     F| paid|\n",
      "|     95|111669149700|   Winston-Salem, NC|      Sara|  Johnson|     F| paid|\n",
      "|     88|111669149701|Sacramento--Rosev...|  Mohammad|Rodriguez|     M| free|\n",
      "|     88|111669149701|Sacramento--Rosev...|  Mohammad|Rodriguez|     M| paid|\n",
      "|    100|111669149702|New York-Newark-J...|     Adler|  Barrera|     M| free|\n",
      "|     49|111669149703|San Francisco-Oak...|     Chloe|   Cuevas|     F| free|\n",
      "+-------+------------+--------------------+----------+---------+------+-----+"
     ]
    }
   ],
   "source": [
    "df_join_2.show()"
   ]
  },
  {
   "cell_type": "code",
   "execution_count": null,
   "metadata": {},
   "outputs": [],
   "source": []
  }
 ],
 "metadata": {
  "kernelspec": {
   "display_name": "PySpark",
   "language": "",
   "name": "pysparkkernel"
  },
  "language_info": {
   "codemirror_mode": {
    "name": "python",
    "version": 2
   },
   "mimetype": "text/x-python",
   "name": "pyspark",
   "pygments_lexer": "python2"
  }
 },
 "nbformat": 4,
 "nbformat_minor": 4
}
